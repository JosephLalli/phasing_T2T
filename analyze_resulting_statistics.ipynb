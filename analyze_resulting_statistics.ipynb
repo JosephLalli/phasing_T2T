{
 "cells": [
  {
   "cell_type": "code",
   "execution_count": 5,
   "metadata": {},
   "outputs": [],
   "source": [
    "import pandas as pd\n",
    "import seaborn as sns\n",
    "import glob\n",
    "import os\n",
    "import numpy as np"
   ]
  },
  {
   "cell_type": "code",
   "execution_count": 6,
   "metadata": {},
   "outputs": [],
   "source": [
    "headers = {'flips_and_switches':['sample_id','num_switches','num_flips','num_correct','switch_error_rate','flip_error_rate','accurately_phased_rate'],\n",
    "           'switch_errors':['sample_id', 'n_switch_errors',  'num_checked', 'switch_error_rate'],\n",
    "           'frequency':['minor_allele_count', 'n_switch_errors', 'n_checked', 'switch_error_rate'],\n",
    "           'type': ['ref_or_alt_allele', 'n_switch_errors', 'n_checked', 'switch_error_rate'],\n",
    "           'variant_switch': ['variant_id', 'position', 'n_switch_errors', 'n_checked', 'switch_error_rate'],\n",
    "           'block_length':['sample','switch_error_site']}\n",
    "stat_prefixes={'flips_and_switches':'flipsAndSwitches',\n",
    "               'switch_errors':'sample.switch',\n",
    "               'frequency':'frequency',\n",
    "               'type':'type',\n",
    "               'variant_switch':'variant.switch',\n",
    "               'block_length':'block.switch'}\n",
    "analysis_suffixes = {'common_variants':{'HPRC_samples':{'phased_with_reference_panel':'common_pangenome_panelphased_vs_pangenome'},\n",
    "                                        'trios': {'phased_without_parents_or_pedigree':'common_noparents_vs_trios'}},\n",
    "                     'rare_variants':  {'HPRC_samples':{'phased_with_reference_panel':'rare_pangenome_panelphased_vs_pangenome',\n",
    "                                                        'phased_without_parents_or_pedigree':'noparents_vs_HPRC',\n",
    "                                                        'phased_with_parents_and_pedigree':'phased_vs_HPRC'},\n",
    "                                        'trios': {'phased_without_parents_or_pedigree':'rare_noparents_vs_trios',\n",
    "                                                        'phased_with_parents_and_pedigree': 'panel_vs_trios'}}}"
   ]
  },
  {
   "cell_type": "code",
   "execution_count": 7,
   "metadata": {},
   "outputs": [],
   "source": [
    "phasing_stats_datasets = dict()\n",
    "phasing_stats_folder='/mnt/data/lalli/nf_stage/phasing_T2T/phasing_stats/'\n",
    "for statistic, header in headers.items():\n",
    "    phasing_stats_datasets[statistic] = list()\n",
    "    for variant_category in analysis_suffixes.keys():\n",
    "        for verification_sample in analysis_suffixes[variant_category].keys():\n",
    "            for phasing_method, prefix in analysis_suffixes[variant_category][verification_sample].items():\n",
    "                    for i in list(range(1,23)) + ['X']:\n",
    "                        file = glob.glob(phasing_stats_folder + f'{prefix}_chr{i}.*{stat_prefixes[statistic]}*')\n",
    "                        if len(file) == 1:\n",
    "                            contig_file = pd.read_csv(file[0], sep=' ', names=header)\n",
    "                            contig_file['chrom'] = f'chr{i}'\n",
    "                            contig_file['stat'] = statistic\n",
    "                            contig_file['method_of_phasing'] = phasing_method\n",
    "                            contig_file['ground_truth_data_source'] = verification_sample\n",
    "                            contig_file['variants'] = variant_category\n",
    "                            phasing_stats_datasets[statistic].append(contig_file)\n",
    "                        else:\n",
    "                            print (phasing_stats_folder + f'{prefix}_chr{i}.*{stat_prefixes[statistic]}*')\n",
    "    if len(phasing_stats_datasets[statistic]) > 1:\n",
    "        phasing_stats_datasets[statistic] = pd.concat(phasing_stats_datasets[statistic]).reset_index(drop=True)"
   ]
  },
  {
   "cell_type": "code",
   "execution_count": 8,
   "metadata": {},
   "outputs": [
    {
     "name": "stderr",
     "output_type": "stream",
     "text": [
      "/tmp/ipykernel_1831946/3989711371.py:2: FutureWarning: The default value of numeric_only in DataFrameGroupBy.sum is deprecated. In a future version, numeric_only will default to False. Either specify numeric_only or select only columns which should be valid for the function.\n",
      "  HPRC_all_contig_switch_errors = phasing_stats_datasets['flips_and_switches'].groupby(['sample_id','method_of_phasing','ground_truth_data_source','variants']).sum()\n"
     ]
    }
   ],
   "source": [
    "if True: #if flips_and_switches\n",
    "    HPRC_all_contig_switch_errors = phasing_stats_datasets['flips_and_switches'].groupby(['sample_id','method_of_phasing','ground_truth_data_source','variants']).sum()\n",
    "    HPRC_all_contig_switch_errors['total_sites'] = HPRC_all_contig_switch_errors.sum(1)\n",
    "    HPRC_all_contig_switch_errors['switch_error_rate'] = HPRC_all_contig_switch_errors.num_switches/HPRC_all_contig_switch_errors.total_sites*100\n",
    "    HPRC_all_contig_switch_errors['flip_error_rate'] = HPRC_all_contig_switch_errors.num_flips/HPRC_all_contig_switch_errors.total_sites*100\n",
    "    HPRC_all_contig_switch_errors['accurately_phased_rate'] = HPRC_all_contig_switch_errors.num_correct/HPRC_all_contig_switch_errors.total_sites*100\n",
    "    HPRC_all_contig_switch_errors = HPRC_all_contig_switch_errors.loc[HPRC_all_contig_switch_errors.total_sites>0]"
   ]
  },
  {
   "cell_type": "code",
   "execution_count": 9,
   "metadata": {},
   "outputs": [
    {
     "data": {
      "text/html": [
       "<div>\n",
       "<style scoped>\n",
       "    .dataframe tbody tr th:only-of-type {\n",
       "        vertical-align: middle;\n",
       "    }\n",
       "\n",
       "    .dataframe tbody tr th {\n",
       "        vertical-align: top;\n",
       "    }\n",
       "\n",
       "    .dataframe thead th {\n",
       "        text-align: right;\n",
       "    }\n",
       "</style>\n",
       "<table border=\"1\" class=\"dataframe\">\n",
       "  <thead>\n",
       "    <tr style=\"text-align: right;\">\n",
       "      <th></th>\n",
       "      <th></th>\n",
       "      <th></th>\n",
       "      <th></th>\n",
       "      <th>num_switches</th>\n",
       "      <th>num_flips</th>\n",
       "      <th>num_correct</th>\n",
       "      <th>switch_error_rate</th>\n",
       "      <th>flip_error_rate</th>\n",
       "      <th>accurately_phased_rate</th>\n",
       "      <th>total_sites</th>\n",
       "    </tr>\n",
       "    <tr>\n",
       "      <th>sample_id</th>\n",
       "      <th>method_of_phasing</th>\n",
       "      <th>ground_truth_data_source</th>\n",
       "      <th>variants</th>\n",
       "      <th></th>\n",
       "      <th></th>\n",
       "      <th></th>\n",
       "      <th></th>\n",
       "      <th></th>\n",
       "      <th></th>\n",
       "      <th></th>\n",
       "    </tr>\n",
       "  </thead>\n",
       "  <tbody>\n",
       "    <tr>\n",
       "      <th>HG00403</th>\n",
       "      <th>phased_with_parents_and_pedigree</th>\n",
       "      <th>trios</th>\n",
       "      <th>rare_variants</th>\n",
       "      <td>1110</td>\n",
       "      <td>420</td>\n",
       "      <td>1487233</td>\n",
       "      <td>0.074444</td>\n",
       "      <td>0.028168</td>\n",
       "      <td>99.743138</td>\n",
       "      <td>1491062.98</td>\n",
       "    </tr>\n",
       "    <tr>\n",
       "      <th>HG00404</th>\n",
       "      <th>phased_with_parents_and_pedigree</th>\n",
       "      <th>trios</th>\n",
       "      <th>rare_variants</th>\n",
       "      <td>1088</td>\n",
       "      <td>413</td>\n",
       "      <td>1507807</td>\n",
       "      <td>0.071976</td>\n",
       "      <td>0.027322</td>\n",
       "      <td>99.748549</td>\n",
       "      <td>1511607.96</td>\n",
       "    </tr>\n",
       "    <tr>\n",
       "      <th rowspan=\"3\" valign=\"top\">HG00405</th>\n",
       "      <th>phased_with_parents_and_pedigree</th>\n",
       "      <th>trios</th>\n",
       "      <th>rare_variants</th>\n",
       "      <td>12</td>\n",
       "      <td>4</td>\n",
       "      <td>1519869</td>\n",
       "      <td>0.000788</td>\n",
       "      <td>0.000263</td>\n",
       "      <td>99.847850</td>\n",
       "      <td>1522185.00</td>\n",
       "    </tr>\n",
       "    <tr>\n",
       "      <th rowspan=\"2\" valign=\"top\">phased_without_parents_or_pedigree</th>\n",
       "      <th rowspan=\"2\" valign=\"top\">trios</th>\n",
       "      <th>common_variants</th>\n",
       "      <td>22182</td>\n",
       "      <td>5864</td>\n",
       "      <td>1774338</td>\n",
       "      <td>1.229135</td>\n",
       "      <td>0.324932</td>\n",
       "      <td>98.318487</td>\n",
       "      <td>1804683.99</td>\n",
       "    </tr>\n",
       "    <tr>\n",
       "      <th>rare_variants</th>\n",
       "      <td>29822</td>\n",
       "      <td>11453</td>\n",
       "      <td>1478610</td>\n",
       "      <td>1.959157</td>\n",
       "      <td>0.752405</td>\n",
       "      <td>97.137339</td>\n",
       "      <td>1522185.00</td>\n",
       "    </tr>\n",
       "    <tr>\n",
       "      <th>...</th>\n",
       "      <th>...</th>\n",
       "      <th>...</th>\n",
       "      <th>...</th>\n",
       "      <td>...</td>\n",
       "      <td>...</td>\n",
       "      <td>...</td>\n",
       "      <td>...</td>\n",
       "      <td>...</td>\n",
       "      <td>...</td>\n",
       "      <td>...</td>\n",
       "    </tr>\n",
       "    <tr>\n",
       "      <th>NA20358</th>\n",
       "      <th>phased_without_parents_or_pedigree</th>\n",
       "      <th>trios</th>\n",
       "      <th>rare_variants</th>\n",
       "      <td>20553</td>\n",
       "      <td>8501</td>\n",
       "      <td>2148632</td>\n",
       "      <td>0.942804</td>\n",
       "      <td>0.389957</td>\n",
       "      <td>98.561735</td>\n",
       "      <td>2179985.98</td>\n",
       "    </tr>\n",
       "    <tr>\n",
       "      <th>NA20359</th>\n",
       "      <th>phased_with_parents_and_pedigree</th>\n",
       "      <th>trios</th>\n",
       "      <th>rare_variants</th>\n",
       "      <td>1981</td>\n",
       "      <td>741</td>\n",
       "      <td>1293789</td>\n",
       "      <td>0.152524</td>\n",
       "      <td>0.057052</td>\n",
       "      <td>99.613338</td>\n",
       "      <td>1298811.01</td>\n",
       "    </tr>\n",
       "    <tr>\n",
       "      <th rowspan=\"3\" valign=\"top\">NA20362</th>\n",
       "      <th>phased_with_parents_and_pedigree</th>\n",
       "      <th>trios</th>\n",
       "      <th>rare_variants</th>\n",
       "      <td>0</td>\n",
       "      <td>0</td>\n",
       "      <td>1289272</td>\n",
       "      <td>0.000000</td>\n",
       "      <td>0.000000</td>\n",
       "      <td>99.821922</td>\n",
       "      <td>1291572.00</td>\n",
       "    </tr>\n",
       "    <tr>\n",
       "      <th rowspan=\"2\" valign=\"top\">phased_without_parents_or_pedigree</th>\n",
       "      <th rowspan=\"2\" valign=\"top\">trios</th>\n",
       "      <th>common_variants</th>\n",
       "      <td>15798</td>\n",
       "      <td>5499</td>\n",
       "      <td>1514395</td>\n",
       "      <td>1.027184</td>\n",
       "      <td>0.357544</td>\n",
       "      <td>98.465729</td>\n",
       "      <td>1537991.97</td>\n",
       "    </tr>\n",
       "    <tr>\n",
       "      <th>rare_variants</th>\n",
       "      <td>13801</td>\n",
       "      <td>5206</td>\n",
       "      <td>1270265</td>\n",
       "      <td>1.068543</td>\n",
       "      <td>0.403075</td>\n",
       "      <td>98.350308</td>\n",
       "      <td>1291571.96</td>\n",
       "    </tr>\n",
       "  </tbody>\n",
       "</table>\n",
       "<p>3167 rows × 7 columns</p>\n",
       "</div>"
      ],
      "text/plain": [
       "                                                                                       num_switches  \\\n",
       "sample_id method_of_phasing                  ground_truth_data_source variants                        \n",
       "HG00403   phased_with_parents_and_pedigree   trios                    rare_variants            1110   \n",
       "HG00404   phased_with_parents_and_pedigree   trios                    rare_variants            1088   \n",
       "HG00405   phased_with_parents_and_pedigree   trios                    rare_variants              12   \n",
       "          phased_without_parents_or_pedigree trios                    common_variants         22182   \n",
       "                                                                      rare_variants           29822   \n",
       "...                                                                                             ...   \n",
       "NA20358   phased_without_parents_or_pedigree trios                    rare_variants           20553   \n",
       "NA20359   phased_with_parents_and_pedigree   trios                    rare_variants            1981   \n",
       "NA20362   phased_with_parents_and_pedigree   trios                    rare_variants               0   \n",
       "          phased_without_parents_or_pedigree trios                    common_variants         15798   \n",
       "                                                                      rare_variants           13801   \n",
       "\n",
       "                                                                                       num_flips  \\\n",
       "sample_id method_of_phasing                  ground_truth_data_source variants                     \n",
       "HG00403   phased_with_parents_and_pedigree   trios                    rare_variants          420   \n",
       "HG00404   phased_with_parents_and_pedigree   trios                    rare_variants          413   \n",
       "HG00405   phased_with_parents_and_pedigree   trios                    rare_variants            4   \n",
       "          phased_without_parents_or_pedigree trios                    common_variants       5864   \n",
       "                                                                      rare_variants        11453   \n",
       "...                                                                                          ...   \n",
       "NA20358   phased_without_parents_or_pedigree trios                    rare_variants         8501   \n",
       "NA20359   phased_with_parents_and_pedigree   trios                    rare_variants          741   \n",
       "NA20362   phased_with_parents_and_pedigree   trios                    rare_variants            0   \n",
       "          phased_without_parents_or_pedigree trios                    common_variants       5499   \n",
       "                                                                      rare_variants         5206   \n",
       "\n",
       "                                                                                       num_correct  \\\n",
       "sample_id method_of_phasing                  ground_truth_data_source variants                       \n",
       "HG00403   phased_with_parents_and_pedigree   trios                    rare_variants        1487233   \n",
       "HG00404   phased_with_parents_and_pedigree   trios                    rare_variants        1507807   \n",
       "HG00405   phased_with_parents_and_pedigree   trios                    rare_variants        1519869   \n",
       "          phased_without_parents_or_pedigree trios                    common_variants      1774338   \n",
       "                                                                      rare_variants        1478610   \n",
       "...                                                                                            ...   \n",
       "NA20358   phased_without_parents_or_pedigree trios                    rare_variants        2148632   \n",
       "NA20359   phased_with_parents_and_pedigree   trios                    rare_variants        1293789   \n",
       "NA20362   phased_with_parents_and_pedigree   trios                    rare_variants        1289272   \n",
       "          phased_without_parents_or_pedigree trios                    common_variants      1514395   \n",
       "                                                                      rare_variants        1270265   \n",
       "\n",
       "                                                                                       switch_error_rate  \\\n",
       "sample_id method_of_phasing                  ground_truth_data_source variants                             \n",
       "HG00403   phased_with_parents_and_pedigree   trios                    rare_variants             0.074444   \n",
       "HG00404   phased_with_parents_and_pedigree   trios                    rare_variants             0.071976   \n",
       "HG00405   phased_with_parents_and_pedigree   trios                    rare_variants             0.000788   \n",
       "          phased_without_parents_or_pedigree trios                    common_variants           1.229135   \n",
       "                                                                      rare_variants             1.959157   \n",
       "...                                                                                                  ...   \n",
       "NA20358   phased_without_parents_or_pedigree trios                    rare_variants             0.942804   \n",
       "NA20359   phased_with_parents_and_pedigree   trios                    rare_variants             0.152524   \n",
       "NA20362   phased_with_parents_and_pedigree   trios                    rare_variants             0.000000   \n",
       "          phased_without_parents_or_pedigree trios                    common_variants           1.027184   \n",
       "                                                                      rare_variants             1.068543   \n",
       "\n",
       "                                                                                       flip_error_rate  \\\n",
       "sample_id method_of_phasing                  ground_truth_data_source variants                           \n",
       "HG00403   phased_with_parents_and_pedigree   trios                    rare_variants           0.028168   \n",
       "HG00404   phased_with_parents_and_pedigree   trios                    rare_variants           0.027322   \n",
       "HG00405   phased_with_parents_and_pedigree   trios                    rare_variants           0.000263   \n",
       "          phased_without_parents_or_pedigree trios                    common_variants         0.324932   \n",
       "                                                                      rare_variants           0.752405   \n",
       "...                                                                                                ...   \n",
       "NA20358   phased_without_parents_or_pedigree trios                    rare_variants           0.389957   \n",
       "NA20359   phased_with_parents_and_pedigree   trios                    rare_variants           0.057052   \n",
       "NA20362   phased_with_parents_and_pedigree   trios                    rare_variants           0.000000   \n",
       "          phased_without_parents_or_pedigree trios                    common_variants         0.357544   \n",
       "                                                                      rare_variants           0.403075   \n",
       "\n",
       "                                                                                       accurately_phased_rate  \\\n",
       "sample_id method_of_phasing                  ground_truth_data_source variants                                  \n",
       "HG00403   phased_with_parents_and_pedigree   trios                    rare_variants                 99.743138   \n",
       "HG00404   phased_with_parents_and_pedigree   trios                    rare_variants                 99.748549   \n",
       "HG00405   phased_with_parents_and_pedigree   trios                    rare_variants                 99.847850   \n",
       "          phased_without_parents_or_pedigree trios                    common_variants               98.318487   \n",
       "                                                                      rare_variants                 97.137339   \n",
       "...                                                                                                       ...   \n",
       "NA20358   phased_without_parents_or_pedigree trios                    rare_variants                 98.561735   \n",
       "NA20359   phased_with_parents_and_pedigree   trios                    rare_variants                 99.613338   \n",
       "NA20362   phased_with_parents_and_pedigree   trios                    rare_variants                 99.821922   \n",
       "          phased_without_parents_or_pedigree trios                    common_variants               98.465729   \n",
       "                                                                      rare_variants                 98.350308   \n",
       "\n",
       "                                                                                       total_sites  \n",
       "sample_id method_of_phasing                  ground_truth_data_source variants                      \n",
       "HG00403   phased_with_parents_and_pedigree   trios                    rare_variants     1491062.98  \n",
       "HG00404   phased_with_parents_and_pedigree   trios                    rare_variants     1511607.96  \n",
       "HG00405   phased_with_parents_and_pedigree   trios                    rare_variants     1522185.00  \n",
       "          phased_without_parents_or_pedigree trios                    common_variants   1804683.99  \n",
       "                                                                      rare_variants     1522185.00  \n",
       "...                                                                                            ...  \n",
       "NA20358   phased_without_parents_or_pedigree trios                    rare_variants     2179985.98  \n",
       "NA20359   phased_with_parents_and_pedigree   trios                    rare_variants     1298811.01  \n",
       "NA20362   phased_with_parents_and_pedigree   trios                    rare_variants     1291572.00  \n",
       "          phased_without_parents_or_pedigree trios                    common_variants   1537991.97  \n",
       "                                                                      rare_variants     1291571.96  \n",
       "\n",
       "[3167 rows x 7 columns]"
      ]
     },
     "execution_count": 9,
     "metadata": {},
     "output_type": "execute_result"
    }
   ],
   "source": [
    "# avg correct block size is this many heterozygous sites:\n",
    "HPRC_all_contig_switch_errors"
   ]
  },
  {
   "cell_type": "code",
   "execution_count": 10,
   "metadata": {},
   "outputs": [
    {
     "data": {
      "text/plain": [
       "<seaborn.axisgrid.FacetGrid at 0x7f63ad46a050>"
      ]
     },
     "execution_count": 10,
     "metadata": {},
     "output_type": "execute_result"
    },
    {
     "data": {
      "image/png": "[encoded data removed]",
      "text/plain": [
       "<Figure size 582.125x360 with 1 Axes>"
      ]
     },
     "metadata": {
      "needs_background": "light"
     },
     "output_type": "display_data"
    }
   ],
   "source": [
    "sns.displot(x='flip_error_rate', binwidth=.1, hue='method_of_phasing', data=HPRC_all_contig_switch_errors, stat='density')"
   ]
  },
  {
   "cell_type": "code",
   "execution_count": 151,
   "metadata": {},
   "outputs": [],
   "source": [
    "def summarize_flips_and_switches(df):\n",
    "    pass\n",
    "\n",
    "def summarize_switch_errors(df):\n",
    "    pass\n",
    "\n",
    "def summarize_frequency(df):\n",
    "    pass\n",
    "\n",
    "def summarize_type(df):\n",
    "    pass\n",
    "\n",
    "def summarize_variant_switch(df):\n",
    "    pass\n",
    "\n",
    "def summarize_block_length(df):\n",
    "    # df.block_length = \n",
    "    return df\n",
    "def calc_block_lengths(df):\n",
    "    return df.groupby(['chrom','sample']).apply(lambda x: x.switch_error_site.diff()).reset_index().switch_error_site"
   ]
  },
  {
   "cell_type": "code",
   "execution_count": 117,
   "metadata": {},
   "outputs": [],
   "source": [
    "phasing_stats_datasets['block_length']['block_length'] = np.nan\n",
    "df = phasing_stats_datasets['block_length'].loc[((phasing_stats_datasets['block_length'].method_of_phasing=='phased_with_reference_panel')\n",
    "                                           & (phasing_stats_datasets['block_length'].ground_truth_data_source=='HPRC_samples')\n",
    "                                           & (phasing_stats_datasets['block_length'].variants=='common_variants'))]\n",
    "\n",
    "# for chrom in df.chrom.unique():\n",
    "#     for sample in df['sample'].unique():\n",
    "#         df.block_length = df.loc[(df.chrom==chrom) & (df['sample']==sample)].switch_error_site.diff()"
   ]
  },
  {
   "cell_type": "code",
   "execution_count": 118,
   "metadata": {},
   "outputs": [],
   "source": [
    "x = df.groupby(['chrom','sample']).apply(lambda x: x.switch_error_site.diff())"
   ]
  },
  {
   "cell_type": "code",
   "execution_count": 157,
   "metadata": {},
   "outputs": [],
   "source": [
    "result = list()\n",
    "for (method_of_phasing, ground_truth_data_source, variant_category, chrom, sample), df in phasing_stats_datasets['block_length'].groupby(['method_of_phasing','ground_truth_data_source','variants', 'chrom','sample']):\n",
    "    print(method_of_phasing, ground_truth_data_source, variant_category, chrom, sample)\n",
    "    print (df.head())\n",
    "    # df['block_lengths'] = df.apply(lambda x: calc_block_lengths(x))\n",
    "    # result.append(df)"
   ]
  },
  {
   "cell_type": "code",
   "execution_count": 120,
   "metadata": {},
   "outputs": [
    {
     "name": "stderr",
     "output_type": "stream",
     "text": [
      "/tmp/ipykernel_1831946/2988447585.py:1: SettingWithCopyWarning: \n",
      "A value is trying to be set on a copy of a slice from a DataFrame.\n",
      "Try using .loc[row_indexer,col_indexer] = value instead\n",
      "\n",
      "See the caveats in the documentation: https://pandas.pydata.org/pandas-docs/stable/user_guide/indexing.html#returning-a-view-versus-a-copy\n",
      "  df.block_length = df.groupby(['chrom','sample']).apply(lambda x: x.switch_error_site.diff()).reset_index().switch_error_site\n"
     ]
    }
   ],
   "source": [
    "phasing_stats_datasets['block_length']['block_length'] = "
   ]
  },
  {
   "cell_type": "code",
   "execution_count": 121,
   "metadata": {},
   "outputs": [
    {
     "data": {
      "text/plain": [
       "0.0"
      ]
     },
     "execution_count": 121,
     "metadata": {},
     "output_type": "execute_result"
    },
    {
     "data": {
      "image/png": "[encoded data removed]",
      "text/plain": [
       "<Figure size 640x480 with 1 Axes>"
      ]
     },
     "metadata": {},
     "output_type": "display_data"
    }
   ],
   "source": [
    "ax = sns.histplot(df.block_length, binwidth=10000)\n",
    "ax.set_yscale('log')\n",
    "ax.set_xscale('log')\n",
    "df.block_length.min()"
   ]
  },
  {
   "cell_type": "code",
   "execution_count": null,
   "metadata": {},
   "outputs": [],
   "source": []
  },
  {
   "cell_type": "code",
   "execution_count": 148,
   "metadata": {},
   "outputs": [],
   "source": [
    "def plot_phasing_blocks(sample, df, cytobands='chm13v2.0_cytobands_allchrs.bed'):\n",
    "    \"\"\"Plot phasing blocks from one sample\"\"\"\n",
    "    from ideograms import plot_ideogram\n",
    "\n",
    "    data = df.loc[df['sample']==sample, ['chrom', 'switch_error_site']].rename(columns={'switch_error_site':'start'}).reset_index(drop=True)\n",
    "    # data = data.groupby('chrom').apply(lambda x: x.shift(1)).fillna(0)\n",
    "    data['end'] = data.groupby('chrom')['start'].shift(-1)\n",
    "    data = data.dropna()\n",
    "    data.end = data.end.astype(int)\n",
    "    data['name'] = data.index.astype(int)\n",
    "    print(data)\n",
    "    ax = plot_ideogram('chm13v2.0_cytobands_allchrs.bed', data, figsize=(8,12), data_height=1.2, inclusive=True)\n",
    "    return ax"
   ]
  },
  {
   "cell_type": "code",
   "execution_count": 149,
   "metadata": {},
   "outputs": [
    {
     "name": "stdout",
     "output_type": "stream",
     "text": [
      "      chrom   start        end   name\n",
      "0      chr1  139203     514232      0\n",
      "1      chr1  514232     518535      1\n",
      "2      chr1  518535     598723      2\n",
      "3      chr1  598723     600001      3\n",
      "4      chr1  600001     748864      4\n",
      "...     ...     ...        ...    ...\n",
      "25677  chrX  920535     921456  25677\n",
      "25678  chrX  921456     946219  25678\n",
      "25679  chrX  946219     979711  25679\n",
      "25680  chrX  979711     981357  25680\n",
      "25681  chrX  981357  154237271  25681\n",
      "\n",
      "[25660 rows x 4 columns]\n",
      "adding ideograms...\n",
      "adding genes...\n"
     ]
    },
    {
     "data": {
      "text/plain": [
       "<AxesSubplot:>"
      ]
     },
     "execution_count": 149,
     "metadata": {},
     "output_type": "execute_result"
    },
    {
     "data": {
      "image/png": "[encoded data removed]",
      "text/plain": [
       "<Figure size 800x1200 with 1 Axes>"
      ]
     },
     "metadata": {},
     "output_type": "display_data"
    }
   ],
   "source": [
    "# data = df.loc[df['sample']=='HG00621', ['chrom', 'switch_error_site']].rename(columns={'switch_error_site':'start'}).reset_index(drop=True)\n",
    "reload(ideograms)\n",
    "from ideograms import plot_ideogram\n",
    "# data.reset_index()\n",
    "plot_phasing_blocks('HG00621', df)"
   ]
  },
  {
   "cell_type": "code",
   "execution_count": 129,
   "metadata": {},
   "outputs": [],
   "source": [
    "\n",
    "# data_list=list()\n",
    "# empty_line=pd.DataFrame(['chr1', -1, -1, -1])\n",
    "# for chrom, df in data.groupby('chrom'):\n",
    "#     chrom_end = data.loc[data.chrom==chrom, 'end'].max()\n",
    "#     if df.iat[0, 1] != 0:\n",
    "#         df = pd.concat((empty_line, df))\n",
    "#         df.iat[0, 1] = 0\n",
    "#         df.iat[0, 2] = df.iat[1, 1]\n",
    "#     if df.iat[0, 2] != chrom_end:\n",
    "#         df = pd.concat((df, empty_line))\n",
    "#         df.iat[-1, 1] = df.iat[-2, 2]\n",
    "#         df.iat[-1, 2] = chrom_end\n",
    "#     data_list.append(df)"
   ]
  },
  {
   "cell_type": "code",
   "execution_count": null,
   "metadata": {},
   "outputs": [],
   "source": []
  }
 ],
 "metadata": {
  "kernelspec": {
   "display_name": "Python 3.10.8 64-bit",
   "language": "python",
   "name": "python3"
  },
  "language_info": {
   "codemirror_mode": {
    "name": "ipython",
    "version": 3
   },
   "file_extension": ".py",
   "mimetype": "text/x-python",
   "name": "python",
   "nbconvert_exporter": "python",
   "pygments_lexer": "ipython3",
   "version": "3.10.8"
  },
  "orig_nbformat": 4,
  "vscode": {
   "interpreter": {
    "hash": "ec603ff22b3b97fe9a021a7751c0e6b1ab1cbba83f01dc11b34bea2f2163a7ad"
   }
  }
 },
 "nbformat": 4,
 "nbformat_minor": 2
}
