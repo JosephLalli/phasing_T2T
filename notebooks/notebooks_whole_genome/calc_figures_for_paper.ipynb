{
 "cells": [
  {
   "cell_type": "code",
   "execution_count": 1,
   "metadata": {},
   "outputs": [],
   "source": [
    "import pandas as pd\n",
    "import polars as pl\n",
    "from pandas.api.types import CategoricalDtype\n",
    "import seaborn as sns\n",
    "import glob\n",
    "import os\n",
    "import numpy as np\n",
    "import matplotlib.pyplot as plt\n",
    "from tqdm import tqdm\n",
    "import importlib\n",
    "\n",
    "plt.rcParams[\"figure.dpi\"] = 120\n",
    "\n",
    "\n",
    "summary_statistics_folder = 'intermediate_data_fullgenome'\n",
    "if os.getcwd()!='phasing_T2T_project':\n",
    "    os.chdir('..') # Change to the parent directory"
   ]
  },
  {
   "cell_type": "code",
   "execution_count": 2,
   "metadata": {},
   "outputs": [],
   "source": [
    "binned_maf_data = pd.read_parquet(f\"{summary_statistics_folder}/binned_maf_data.parquet\")\n",
    "\n",
    "all_chroms = pd.read_parquet(f'{summary_statistics_folder}/chroms.parquet')\n",
    "all_samples = pd.read_parquet(f'{summary_statistics_folder}/samples.parquet')\n",
    "all_ancestries = pd.read_parquet(f'{summary_statistics_folder}/ancestries.parquet')\n",
    "all_methods = pd.read_parquet(f'{summary_statistics_folder}/methods.parquet')\n",
    "\n",
    "per_variant_category_imputation_performance = pd.read_parquet(f'{summary_statistics_folder}/per_variant_category_imputation_performance.parquet')\n",
    "per_sample_imputation_performance = pd.read_parquet(f'{summary_statistics_folder}/per_sample_imputation_performance.parquet')\n",
    "\n",
    "rolling_window_ideogram_250k = pd.read_parquet(f'{summary_statistics_folder}/rolling_stats_250k_window.parquet')"
   ]
  },
  {
   "cell_type": "code",
   "execution_count": 3,
   "metadata": {},
   "outputs": [],
   "source": [
    "#Post hoc fixes - one off events that are tricky to deal with when compiling stats\n",
    "\n",
    "# there is one variant (I have not investigated, but likely a denovo SNP) that is a singleton variant in the HPRC dataset. \n",
    "# That variant passed all filters, but makes for a very odd figure (correctly phased: 0% error rate, incorrect: 100% error rate)\n",
    "# We will trim it here\n",
    "binned_maf_data.loc[(binned_maf_data.ground_truth_data_source == 'HPRC_samples')&\n",
    "                    (binned_maf_data.method_of_phasing == 'phased_with_parents_and_pedigree')&\n",
    "                    (binned_maf_data.rounded_MAF == 'singleton'), ['n_switch_errors','n_checked','switch_error_rate']] = np.nan\n",
    "\n",
    "# Isolate syntenic vs nonsyntenic regions\n",
    "regional_binned_maf_data = binned_maf_data.copy()\n",
    "binned_maf_data = (binned_maf_data.loc[binned_maf_data.region.isin(['syntenic','nonsyntenic','All'])]\n",
    "                                  .replace('syntenic','Syntenic')\n",
    "                                  .replace('nonsyntenic','Nonsyntenic')\n",
    "                                  .rename(columns={'region':'Syntenic'}))\n",
    "\n",
    "# Nonsyntenic GRCh38 regions are simply GRCh38 errors, and we are not interested in the performance in these regions\n",
    "binned_maf_data = binned_maf_data.loc[~((binned_maf_data.genome=='GRCh38')&(binned_maf_data.Syntenic=='Nonsyntenic'))]\n",
    "\n",
    "# NA20355 is a duo member, and as such was not part of duohmm trio correction for the GRCh38 2022 effort.\n",
    "all_chroms.loc[(all_chroms.genome=='GRCh38')&(all_chroms['sample_id']=='NA20355'), 'trio_phased'] = False\n",
    "all_samples.loc[(all_samples.genome=='GRCh38')&(all_samples['sample_id']=='NA20355'), 'trio_phased'] = False\n",
    "all_chroms = all_chroms.loc[~((all_chroms.genome=='GRCh38')&(all_chroms['sample_id']=='NA20355')&(all_chroms.ground_truth_data_source.isin(['HPRC_HGSVC_probands','HGSVC_probands'])))]\n",
    "all_samples = all_samples.loc[~((all_samples.genome=='GRCh38')&(all_samples['sample_id']=='NA20355')&\n",
    "                                (all_samples.ground_truth_data_source.isin(['HPRC_HGSVC_probands','HGSVC_probands'])))]\n",
    "\n",
    "# very high variance stats when n_checked is less than 10. Replace switch error rate at these sites with np.nan\n",
    "binned_maf_data.loc[(binned_maf_data.n_checked>10), 'switch_error_rate'] = binned_maf_data.loc[(binned_maf_data.n_checked>10), 'switch_error_rate'].replace(0, np.nan)\n",
    "\n",
    "# bins with a switch error rate of 0 make for insane figures when plotted on a log scale. Replace with np.nan, and maybe note\n",
    "binned_maf_data['switch_error_rate'] = binned_maf_data['switch_error_rate'].replace(0, np.nan)\n",
    "\n",
    "# A reviewer suggests combining chrX, PAR1, and PAR2 statistics. I will do that, and set male chrX switch error rates to np.nan.\n",
    "## Calculate percent discordance in imputation performance\n",
    "if 'perc_discordance' not in per_variant_category_imputation_performance.columns:\n",
    "    per_variant_category_imputation_performance = per_variant_category_imputation_performance.loc[per_variant_category_imputation_performance.num_AA > 0]\n",
    "    if max(per_variant_category_imputation_performance.mean_AF) < 1:\n",
    "        per_variant_category_imputation_performance.mean_AF *= 100\n",
    "    per_variant_category_imputation_performance['num_alt_mismatches'] = per_variant_category_imputation_performance.num_Aa_mismatches + per_variant_category_imputation_performance.num_aa_mismatches\n",
    "    per_variant_category_imputation_performance['num_alt_variants'] = per_variant_category_imputation_performance.num_Aa + per_variant_category_imputation_performance.num_aa\n",
    "    per_variant_category_imputation_performance['perc_discordance'] = per_variant_category_imputation_performance['num_alt_mismatches']/per_variant_category_imputation_performance['num_alt_variants']*100\n",
    "    per_variant_category_imputation_performance['perc_concordance'] = 100-per_variant_category_imputation_performance['perc_discordance']\n",
    "\n",
    "# imputed df needs to have CHM13v2.0 as genome name instead of T2T\n",
    "per_variant_category_imputation_performance = per_variant_category_imputation_performance.replace('T2T','CHM13v2.0')\n",
    "per_sample_imputation_performance = per_sample_imputation_performance.replace('T2T','CHM13v2.0')\n",
    "\n",
    "# A supplemental calculates SER by % of chromosome that is new. we calc that here.\n",
    "if 'percent_new' not in all_chroms.columns:\n",
    "    syntenic_bed = pd.read_csv('resources/hg38.GCA_009914755.4.synNet.summary.bed.gz', sep='\\t', header=None)\n",
    "    syntenic_bed.columns = ['chrom','start','end','status']\n",
    "    starts = syntenic_bed.groupby('chrom').first().reset_index()\n",
    "    syntenic_bed['length'] = syntenic_bed.end-syntenic_bed.start\n",
    "    syntenic_bed['dif'] = syntenic_bed.end.diff()\n",
    "    syntenic_bed['nonsyn_len'] = syntenic_bed.dif - syntenic_bed.length\n",
    "    syntenic_bed.loc[syntenic_bed.nonsyn_len < 0, 'nonsyn_len'] = syntenic_bed.loc[syntenic_bed.nonsyn_len < 0, 'start']\n",
    "    syntenic_bed.loc[syntenic_bed.nonsyn_len.isna(), 'nonsyn_len'] = syntenic_bed.loc[syntenic_bed.nonsyn_len.isna(), 'start']\n",
    "    rough_length = syntenic_bed.groupby('chrom').end.max().reset_index()\n",
    "    chr_nonsyn_lengths = syntenic_bed.groupby('chrom').sum(numeric_only=True).reset_index()[['chrom','nonsyn_len']]\n",
    "    chr_nonsyn_lengths = chr_nonsyn_lengths.merge(rough_length, on='chrom')\n",
    "    chr_nonsyn_lengths['percent_new'] = chr_nonsyn_lengths.nonsyn_len/chr_nonsyn_lengths.end * 100\n",
    "    all_chroms = all_chroms.merge(chr_nonsyn_lengths[['chrom', 'percent_new']], on=['chrom'],how='left')\n",
    "\n",
    "all_chroms_chrX = all_chroms.loc[all_chroms.chrom.isin(('chrX','PAR1','PAR2'))].assign(chrom='chrX')\n",
    "all_chroms_chrX = all_chroms_chrX.groupby(['chrom','genome','sample_id','method_of_phasing','ground_truth_data_source','population', 'superpopulation', 'sex', 'trio_phased'],observed=True).sum(numeric_only=True).reset_index()\n",
    "all_chroms_chrX.loc[all_chroms_chrX.sex=='Male', ['n_switch_errors','n_total_switch_errors','n_flips','n_consecutive_flips','n_true_switch_errors','num_correct_phased_hets',\n",
    "                                                  'n_total_hets','flip_and_switches_SER', 'flip_error_rate', 'true_switch_error_rate','accurately_phased_rate']] = np.nan\n",
    "\n",
    "all_chroms_chrX['switch_error_rate'] = all_chroms_chrX.n_switch_errors/all_chroms_chrX.n_checked * 100\n",
    "all_chroms_chrX['gt_error_rate'] = all_chroms_chrX.n_gt_errors/all_chroms_chrX.n_gt_checked * 100\n",
    "all_chroms_chrX['flip_and_switches_SER'] = all_chroms_chrX.n_total_switch_errors/all_chroms_chrX.n_total_hets * 100\n",
    "all_chroms_chrX['flip_error_rate'] = all_chroms_chrX.n_flips/all_chroms_chrX.n_total_hets * 100\n",
    "all_chroms_chrX['true_switch_error_rate'] = all_chroms_chrX.n_true_switch_errors/all_chroms_chrX.n_total_hets * 100\n",
    "\n",
    "all_chroms_chrX = pd.concat((all_chroms_chrX, all_chroms.loc[~all_chroms.chrom.isin(('chrX','PAR1','PAR2'))])).drop(columns=['L50','N50','percent_new'])\n",
    "\n",
    "\n",
    "binned_maf_data = binned_maf_data.sort_values('type', key=lambda col: col.apply(lambda x: {'Indel':0, 'SNP':1, 'SNPs + Indels':2}.get(x,x)))\n",
    "binned_maf_data = binned_maf_data.sort_values('genome', key=lambda col: col.apply(lambda x: {'GRCh38':0, 'CHM13v2.0':1}.get(x,x)))\n",
    "\n",
    "if binned_maf_data['switch_error_rate'].max() < 1:\n",
    "    binned_maf_data['switch_error_rate'] *= 100\n",
    "if binned_maf_data['gt_error_rate'].max() < 1:\n",
    "    binned_maf_data['gt_error_rate'] *= 100\n",
    "if binned_maf_data['MAF'].max() < 1:\n",
    "    binned_maf_data['MAF'] *= 100\n",
    "\n",
    "# a handful of variants are miscategorized as singletons. There are no true GRCh38 singletons. We can fix this.\n",
    "binned_maf_data = binned_maf_data.loc[~((binned_maf_data.rounded_MAF=='singleton')&(binned_maf_data.genome=='GRCh38')&(binned_maf_data.method_of_phasing=='phased_with_parents_and_pedigree')&(binned_maf_data.ground_truth_data_source!='trios'))]\n",
    "\n"
   ]
  },
  {
   "cell_type": "code",
   "execution_count": 4,
   "metadata": {},
   "outputs": [],
   "source": [
    "oneKGP_meta = pd.read_csv('resources/1000_genomes_meta.tsv', sep='\\t')\n",
    "overlaps = oneKGP_meta.loc[oneKGP_meta['Sample name'].isin(all_samples.sample_id.unique()) & oneKGP_meta['Data collections'].str.contains('Simons Genome'), 'Sample name']\n",
    "overlaps.to_csv('resources/sample_subsets/SGDP_samples_in_1KGP.txt', index=False, header=False)"
   ]
  },
  {
   "cell_type": "code",
   "execution_count": 5,
   "metadata": {},
   "outputs": [],
   "source": [
    "pedigree = pd.read_csv('resources/pedigrees/1kGP.3202_samples.pedigree_info.txt', sep=' ')"
   ]
  },
  {
   "cell_type": "markdown",
   "metadata": {},
   "source": [
    "### Variant Filtering Stats \n",
    "Stats in paragraph after \"Full length, telomere to telomere maps of human genetic recombination rates are largely consistent with deCODE recombination rates\""
   ]
  },
  {
   "cell_type": "code",
   "execution_count": 6,
   "metadata": {},
   "outputs": [
    {
     "name": "stdout",
     "output_type": "stream",
     "text": [
      "CHM13 variants lost to gatk-based filters:\n",
      "14491949\n",
      "CHM13 variants gained due to ability to include singletons:\n",
      "40226623\n"
     ]
    }
   ],
   "source": [
    "sum_stats_var_filters = pd.read_parquet(f\"{summary_statistics_folder}/filter_summary_stats.parquet\")\n",
    "\n",
    "grch38_filter_columns=['MERR_filter', 'HWE_pop_filter','AC_filter',\n",
    "       'f_missing_filter', 'var_len_filter', 'alt_star_filter', 'pass_filter']\n",
    "chm13_filter_columns=[#'neg_train_site_filter',\n",
    "       'VQSLOD_filter', 'MERR_filter', 'HWE_pop_filter', 'MAC_filter',\n",
    "       'f_missing_filter', 'var_len_filter', 'alt_star_filter', 'pass_filter']\n",
    "\n",
    "sum_stats_var_filters['gatk_filters'] = sum_stats_var_filters.VQSLOD_filter #| sum_stats_var_filters.neg_train_site_filter\n",
    "sum_stats_var_filters['GRCh38_criteria_pass_if_singletons_passed'] = ~sum_stats_var_filters[[x for x in grch38_filter_columns if x != 'AC_filter'] + ['MAC_filter']].any(axis=1)\n",
    "\n",
    "num_singletons_gained = sum_stats_var_filters.loc[ (sum_stats_var_filters.genome=='CHM13v2.0') &\n",
    "                                                   ~sum_stats_var_filters.CHM13_criteria_fail &\n",
    "                                                    sum_stats_var_filters.singleton &\n",
    "                                                    sum_stats_var_filters.GRCh38_criteria_fail &\n",
    "                                                    sum_stats_var_filters.GRCh38_criteria_pass_if_singletons_passed].len.sum()\n",
    "num_variants_lost_to_gatk = sum_stats_var_filters.loc[ (sum_stats_var_filters.genome=='CHM13v2.0') &\n",
    "                                                        sum_stats_var_filters.CHM13_criteria_fail &\n",
    "                                                       ~sum_stats_var_filters.GRCh38_criteria_fail &\n",
    "                                                        sum_stats_var_filters.gatk_filters &\n",
    "                                                        sum_stats_var_filters.GRCh38_criteria_pass_if_singletons_passed].len.sum()\n",
    "\n",
    "print(f\"CHM13 variants lost to gatk-based filters:\\n{num_variants_lost_to_gatk}\")\n",
    "print(f\"CHM13 variants gained due to ability to include singletons:\\n{num_singletons_gained}\")"
   ]
  },
  {
   "cell_type": "markdown",
   "metadata": {},
   "source": [
    "The resulting panel contains 6404 haplotypes and XXX unique variants, including XXX phased variants in novel regions of the CHM13v2.0 genome."
   ]
  },
  {
   "cell_type": "code",
   "execution_count": 7,
   "metadata": {},
   "outputs": [
    {
     "name": "stdout",
     "output_type": "stream",
     "text": [
      "Unique variants: 75135193\n",
      "Unique novel variants: 244718\n"
     ]
    }
   ],
   "source": [
    "number_unique_CHM13_variants = sum_stats_var_filters.loc[~sum_stats_var_filters.CHM13_filtered & (sum_stats_var_filters.genome=='CHM13v2.0')].len.sum()\n",
    "number_unique_syntenic_CHM13_variants = sum_stats_var_filters.loc[~sum_stats_var_filters.Syntenic & ~sum_stats_var_filters.CHM13_filtered & (sum_stats_var_filters.genome=='CHM13v2.0')].len.sum()\n",
    "print(f\"Unique variants: {number_unique_CHM13_variants}\")\n",
    "print(f\"Unique novel variants: {number_unique_syntenic_CHM13_variants}\")"
   ]
  },
  {
   "cell_type": "markdown",
   "metadata": {},
   "source": [
    "We observed that samples that underwent Mendelian pre-phasing (Figure 2a, c) had lower SERs than samples that underwent statistical phasing (Figure 2b, d; XXX% vs XXX%)."
   ]
  },
  {
   "cell_type": "code",
   "execution_count": 8,
   "metadata": {},
   "outputs": [
    {
     "data": {
      "application/vnd.microsoft.datawrangler.viewer.v0+json": {
       "columns": [
        {
         "name": "ground_truth_data_source",
         "rawType": "category",
         "type": "unknown"
        },
        {
         "name": "switch_error_rate",
         "rawType": "float64",
         "type": "float"
        }
       ],
       "ref": "864a57e0-cf93-475f-a78a-e25c9476e6a3",
       "rows": [
        [
         "HPRC_samples",
         "0.40794760928023754"
        ],
        [
         "HGSVC_samples_nontrios_only",
         "1.280731516927418"
        ]
       ],
       "shape": {
        "columns": 1,
        "rows": 2
       }
      },
      "text/plain": [
       "ground_truth_data_source\n",
       "HPRC_samples                   0.407948\n",
       "HGSVC_samples_nontrios_only    1.280732\n",
       "Name: switch_error_rate, dtype: float64"
      ]
     },
     "execution_count": 8,
     "metadata": {},
     "output_type": "execute_result"
    }
   ],
   "source": [
    "trio_vs_nontrio = all_samples.loc[all_samples.ground_truth_data_source.isin(['HPRC_samples', 'HGSVC_samples_nontrios_only']) & \n",
    "                                    (all_samples.method_of_phasing == 'phased_with_parents_and_pedigree')&\n",
    "                                    (all_samples.genome=='GRCh38')\n",
    "                                    ].groupby('ground_truth_data_source', observed=True).sum(numeric_only=True)\n",
    "\n",
    "trio_vs_nontrio['switch_error_rate'] = trio_vs_nontrio.n_switch_errors/trio_vs_nontrio.n_checked * 100\n",
    "trio_vs_nontrio.switch_error_rate"
   ]
  },
  {
   "cell_type": "markdown",
   "metadata": {},
   "source": [
    "### Number of reference samples that are probands/parents/unrelateds"
   ]
  },
  {
   "cell_type": "code",
   "execution_count": 9,
   "metadata": {},
   "outputs": [],
   "source": [
    "pedigree = pedigree.replace('0', np.nan)\n",
    "num_that_are_children_and_parents = pedigree.loc[pedigree.sampleID.isin(pedigree.fatherID) | pedigree.sampleID.isin(pedigree.motherID) & ~(pedigree.fatherID.isna() | pedigree.motherID.isna())]"
   ]
  },
  {
   "cell_type": "code",
   "execution_count": 10,
   "metadata": {},
   "outputs": [],
   "source": [
    "children_that_are_parents = pedigree.loc[(pedigree.sampleID.isin(pedigree.fatherID) | pedigree.sampleID.isin(pedigree.motherID)) & (~pedigree.fatherID.isna() | ~pedigree.motherID.isna())].sampleID\n",
    "pedigree['trio_status'] = np.nan\n",
    "complex_pedigrees = pedigree.loc[pedigree.sampleID.isin(children_that_are_parents) | pedigree.motherID.isin(children_that_are_parents) | pedigree.fatherID.isin(children_that_are_parents)]\n",
    "simple_trios = pedigree.loc[~pedigree.index.isin(complex_pedigrees.index) & (~pedigree.fatherID.isna() & ~pedigree.motherID.isna())]\n",
    "simple_duos = pedigree.loc[~pedigree.index.isin(complex_pedigrees.index) & (~pedigree.fatherID.isna() ^ ~pedigree.motherID.isna())]\n",
    "relatives = pd.concat((simple_duos, simple_trios, complex_pedigrees))\n",
    "relatives = relatives.fatherID.dropna().tolist() + relatives.motherID.dropna().tolist() + relatives.sampleID.tolist()\n",
    "relatives = pedigree.loc[pedigree.sampleID.isin(relatives)]\n",
    "no_relatives = pedigree.loc[~pedigree.sampleID.isin(relatives.sampleID)]\n"
   ]
  },
  {
   "cell_type": "code",
   "execution_count": 11,
   "metadata": {},
   "outputs": [],
   "source": [
    "proband_or_not_trio = pedigree.loc[~(pedigree.sampleID.isin(pedigree.fatherID) | pedigree.sampleID.isin(pedigree.motherID))]"
   ]
  },
  {
   "cell_type": "code",
   "execution_count": 12,
   "metadata": {},
   "outputs": [
    {
     "data": {
      "application/vnd.microsoft.datawrangler.viewer.v0+json": {
       "columns": [
        {
         "name": "index",
         "rawType": "int64",
         "type": "integer"
        },
        {
         "name": "sampleID",
         "rawType": "object",
         "type": "string"
        },
        {
         "name": "fatherID",
         "rawType": "object",
         "type": "unknown"
        },
        {
         "name": "motherID",
         "rawType": "object",
         "type": "unknown"
        },
        {
         "name": "sex",
         "rawType": "int64",
         "type": "integer"
        },
        {
         "name": "trio_status",
         "rawType": "float64",
         "type": "float"
        }
       ],
       "ref": "ac9f5e66-cd0c-4a24-87ec-0e840f01616d",
       "rows": [
        [
         "2504",
         "NA18913",
         null,
         "NA19238",
         "1",
         null
        ],
        [
         "2731",
         "NA19238",
         null,
         null,
         "2",
         null
        ],
        [
         "2733",
         "NA19240",
         "NA19239",
         "NA19238",
         "2",
         null
        ]
       ],
       "shape": {
        "columns": 5,
        "rows": 3
       }
      },
      "text/html": [
       "<div>\n",
       "<style scoped>\n",
       "    .dataframe tbody tr th:only-of-type {\n",
       "        vertical-align: middle;\n",
       "    }\n",
       "\n",
       "    .dataframe tbody tr th {\n",
       "        vertical-align: top;\n",
       "    }\n",
       "\n",
       "    .dataframe thead th {\n",
       "        text-align: right;\n",
       "    }\n",
       "</style>\n",
       "<table border=\"1\" class=\"dataframe\">\n",
       "  <thead>\n",
       "    <tr style=\"text-align: right;\">\n",
       "      <th></th>\n",
       "      <th>sampleID</th>\n",
       "      <th>fatherID</th>\n",
       "      <th>motherID</th>\n",
       "      <th>sex</th>\n",
       "      <th>trio_status</th>\n",
       "    </tr>\n",
       "  </thead>\n",
       "  <tbody>\n",
       "    <tr>\n",
       "      <th>2504</th>\n",
       "      <td>NA18913</td>\n",
       "      <td>NaN</td>\n",
       "      <td>NA19238</td>\n",
       "      <td>1</td>\n",
       "      <td>NaN</td>\n",
       "    </tr>\n",
       "    <tr>\n",
       "      <th>2731</th>\n",
       "      <td>NA19238</td>\n",
       "      <td>NaN</td>\n",
       "      <td>NaN</td>\n",
       "      <td>2</td>\n",
       "      <td>NaN</td>\n",
       "    </tr>\n",
       "    <tr>\n",
       "      <th>2733</th>\n",
       "      <td>NA19240</td>\n",
       "      <td>NA19239</td>\n",
       "      <td>NA19238</td>\n",
       "      <td>2</td>\n",
       "      <td>NaN</td>\n",
       "    </tr>\n",
       "  </tbody>\n",
       "</table>\n",
       "</div>"
      ],
      "text/plain": [
       "     sampleID fatherID motherID  sex  trio_status\n",
       "2504  NA18913      NaN  NA19238    1          NaN\n",
       "2731  NA19238      NaN      NaN    2          NaN\n",
       "2733  NA19240  NA19239  NA19238    2          NaN"
      ]
     },
     "execution_count": 12,
     "metadata": {},
     "output_type": "execute_result"
    }
   ],
   "source": [
    "def get_parents(df):\n",
    "    return df.fatherID.dropna().to_list() + df.motherID.dropna().to_list()\n",
    "\n",
    "complex_people = [x for x in get_parents(complex_pedigrees) if x in complex_pedigrees.sampleID.tolist()]\n",
    "\n",
    "complex_trio_parents = [x for x in get_parents(complex_pedigrees.loc[~(complex_pedigrees.fatherID.isna() | complex_pedigrees.motherID.isna())]) if x not in complex_pedigrees.sampleID.tolist()]\n",
    "complex_duo_parents = [x for x in get_parents(complex_pedigrees.loc[(complex_pedigrees.fatherID.isna() ^ complex_pedigrees.motherID.isna())]) if x not in complex_pedigrees.sampleID.tolist()]\n",
    "complex_trio_children = [x for x in complex_pedigrees.loc[~(complex_pedigrees.fatherID.isna() | complex_pedigrees.motherID.isna())].sampleID.to_list() if x not in get_parents(complex_pedigrees)]\n",
    "complex_duo_children = [x for x in complex_pedigrees.loc[(complex_pedigrees.fatherID.isna() ^ complex_pedigrees.motherID.isna())].sampleID.to_list() if x not in get_parents(complex_pedigrees)]\n",
    "simple_pedigrees = pedigree.loc[~pedigree.index.isin(complex_pedigrees.index)]\n",
    "simple_trios = simple_pedigrees.loc[~(simple_pedigrees.fatherID.isna() | simple_pedigrees.motherID.isna())]\n",
    "trio_parents = get_parents(simple_trios) + complex_trio_parents\n",
    "trio_children = simple_trios.sampleID.to_list() + complex_trio_children\n",
    "simple_duos = simple_pedigrees.loc[(simple_pedigrees.fatherID.isna() ^ simple_pedigrees.motherID.isna())]\n",
    "duo_parents = get_parents(simple_duos) + complex_duo_parents\n",
    "duo_children = simple_duos.sampleID.to_list() + complex_duo_children\n",
    "\n",
    "trio_dads = simple_trios.fatherID.dropna().to_list() + [x for x in complex_trio_parents if x in complex_pedigrees.fatherID.tolist()]\n",
    "trio_moms = simple_trios.motherID.dropna().to_list() + [x for x in complex_trio_parents if x in complex_pedigrees.motherID.tolist()]\n",
    "\n",
    "len(set(trio_moms)), len(set(trio_dads)), len(set(trio_parents)), len(set(duo_parents)), len(set(trio_children)), len(set(duo_children)), len(complex_people)\n",
    "\n",
    "## Describes the parent who is in two duo/trios\n",
    "pedigree.loc[(pedigree.sampleID=='NA19238')|(pedigree.fatherID=='NA19238')|(pedigree.motherID=='NA19238')]"
   ]
  },
  {
   "cell_type": "markdown",
   "metadata": {},
   "source": [
    "### Export per-sample statistics for supplemental table 1"
   ]
  },
  {
   "cell_type": "code",
   "execution_count": 13,
   "metadata": {},
   "outputs": [
    {
     "data": {
      "application/vnd.microsoft.datawrangler.viewer.v0+json": {
       "columns": [
        {
         "name": "index",
         "rawType": "object",
         "type": "string"
        },
        {
         "name": "0",
         "rawType": "object",
         "type": "unknown"
        },
        {
         "name": "1",
         "rawType": "object",
         "type": "unknown"
        },
        {
         "name": "2",
         "rawType": "object",
         "type": "unknown"
        },
        {
         "name": "3",
         "rawType": "object",
         "type": "unknown"
        },
        {
         "name": "4",
         "rawType": "object",
         "type": "unknown"
        },
        {
         "name": "5",
         "rawType": "object",
         "type": "unknown"
        },
        {
         "name": "6",
         "rawType": "object",
         "type": "unknown"
        },
        {
         "name": "7",
         "rawType": "object",
         "type": "unknown"
        }
       ],
       "ref": "0d8f35e8-ba7f-4ac0-9936-1a1b43558abe",
       "rows": [
        [
         "panel_genome",
         "GRCh38",
         "GRCh38",
         "GRCh38",
         "GRCh38",
         "CHM13v2.0",
         "CHM13v2.0",
         "CHM13v2.0",
         "CHM13v2.0"
        ],
        [
         "ground_truth_data_source",
         "HPRC_samples",
         "HGSVC_samples",
         "HGSVC_samples",
         "HGSVC_samples",
         "HPRC_samples",
         "HGSVC_samples",
         "HGSVC_samples",
         "HGSVC_samples"
        ],
        [
         "family_status",
         "trio_proband",
         "non_trio",
         "trio_parent",
         "trio_proband",
         "trio_proband",
         "non_trio",
         "trio_parent",
         "trio_proband"
        ],
        [
         "n_switch_errors",
         "474899",
         "721620",
         "282761",
         "396029",
         "361950",
         "511618",
         "174592",
         "333248"
        ],
        [
         "n_checked",
         "116411762",
         "55578917",
         "40080199",
         "85364549",
         "101999287",
         "46079440",
         "35237358",
         "77833807"
        ],
        [
         "switch_error_rate",
         "0.40794760928023754",
         "1.2983700276131684",
         "0.7054880141687919",
         "0.4639267759734782",
         "0.3548554216854477",
         "1.1102956112313866",
         "0.49547414990647143",
         "0.42815328305860717"
        ],
        [
         "n_total_switch_errors",
         "474899",
         "721620",
         "282761",
         "396029",
         "361950",
         "511618",
         "174592",
         "333248"
        ],
        [
         "n_flips",
         "216913",
         "277200",
         "121977",
         "184339",
         "169732",
         "219366",
         "83125",
         "157725"
        ],
        [
         "n_consecutive_flips",
         "7184",
         "27455",
         "6508",
         "5243",
         "3390",
         "12846",
         "1439",
         "3281"
        ],
        [
         "n_true_switch_errors",
         "33889",
         "139765",
         "32299",
         "22108",
         "19096",
         "60040",
         "6903",
         "14517"
        ],
        [
         "num_correct_phased_hets",
         "115936863",
         "54857297",
         "39797438",
         "84968520",
         "101637337",
         "45567822",
         "35062766",
         "77500559"
        ],
        [
         "n_total_hets",
         "116635859",
         "55883572",
         "40208684",
         "85554131",
         "102172409",
         "46311652",
         "35321922",
         "77994813"
        ],
        [
         "flip_and_switches_SER",
         "15.848738209412687",
         "25.36294562373104",
         "9.033921914880485",
         "13.873697233275662",
         "13.827222769756643",
         "21.464301158398552",
         "6.393530826328393",
         "13.165650635989959"
        ],
        [
         "flip_error_rate",
         "0.18597453807066314",
         "0.49603128447122175",
         "0.30335984137158034",
         "0.21546475645927604",
         "0.166123126254173",
         "0.4736734504741917",
         "0.2353354384282939",
         "0.2022249864231356"
        ],
        [
         "true_switch_error_rate",
         "0.029055386817188014",
         "0.2501003336007226",
         "0.08032841860728393",
         "0.02584094974911264",
         "0.018689977252077907",
         "0.12964339946240744",
         "0.019543104137991135",
         "0.018612776211156503"
        ],
        [
         "accurately_phased_rate",
         "3876.686592808725",
         "1964.0205417406214",
         "1286.860833617355",
         "2979.492545182946",
         "3879.5852759129457",
         "1868.8250822979526",
         "1290.5130267953357",
         "3080.4864567822387"
        ],
        [
         "n_gt_errors",
         "9552682.0",
         "6916313.0",
         "4587144.0",
         "9665325.0",
         "6867529.0",
         "5090289.0",
         "3571836.0",
         "7676802.0"
        ],
        [
         "n_gt_checked",
         "857820709",
         "481426123",
         "314802029",
         "724957722",
         "747787272",
         "406219522",
         "279764783",
         "665772735"
        ],
        [
         "gt_error_rate",
         "1.113598902401877",
         "1.4366301846898324",
         "1.4571519804276738",
         "1.3332260222479566",
         "0.9183800336200427",
         "1.2530882255333853",
         "1.2767282435259195",
         "1.1530664439119753"
        ],
        [
         "N50",
         "5972868442",
         "3108474708",
         "1990430925",
         "4593002664",
         "5922189400",
         "2905799316",
         "1972578898",
         "4705087212"
        ]
       ],
       "shape": {
        "columns": 8,
        "rows": 20
       }
      },
      "text/html": [
       "<div>\n",
       "<style scoped>\n",
       "    .dataframe tbody tr th:only-of-type {\n",
       "        vertical-align: middle;\n",
       "    }\n",
       "\n",
       "    .dataframe tbody tr th {\n",
       "        vertical-align: top;\n",
       "    }\n",
       "\n",
       "    .dataframe thead th {\n",
       "        text-align: right;\n",
       "    }\n",
       "</style>\n",
       "<table border=\"1\" class=\"dataframe\">\n",
       "  <thead>\n",
       "    <tr style=\"text-align: right;\">\n",
       "      <th></th>\n",
       "      <th>0</th>\n",
       "      <th>1</th>\n",
       "      <th>2</th>\n",
       "      <th>3</th>\n",
       "      <th>4</th>\n",
       "      <th>5</th>\n",
       "      <th>6</th>\n",
       "      <th>7</th>\n",
       "    </tr>\n",
       "  </thead>\n",
       "  <tbody>\n",
       "    <tr>\n",
       "      <th>panel_genome</th>\n",
       "      <td>GRCh38</td>\n",
       "      <td>GRCh38</td>\n",
       "      <td>GRCh38</td>\n",
       "      <td>GRCh38</td>\n",
       "      <td>CHM13v2.0</td>\n",
       "      <td>CHM13v2.0</td>\n",
       "      <td>CHM13v2.0</td>\n",
       "      <td>CHM13v2.0</td>\n",
       "    </tr>\n",
       "    <tr>\n",
       "      <th>ground_truth_data_source</th>\n",
       "      <td>HPRC_samples</td>\n",
       "      <td>HGSVC_samples</td>\n",
       "      <td>HGSVC_samples</td>\n",
       "      <td>HGSVC_samples</td>\n",
       "      <td>HPRC_samples</td>\n",
       "      <td>HGSVC_samples</td>\n",
       "      <td>HGSVC_samples</td>\n",
       "      <td>HGSVC_samples</td>\n",
       "    </tr>\n",
       "    <tr>\n",
       "      <th>family_status</th>\n",
       "      <td>trio_proband</td>\n",
       "      <td>non_trio</td>\n",
       "      <td>trio_parent</td>\n",
       "      <td>trio_proband</td>\n",
       "      <td>trio_proband</td>\n",
       "      <td>non_trio</td>\n",
       "      <td>trio_parent</td>\n",
       "      <td>trio_proband</td>\n",
       "    </tr>\n",
       "    <tr>\n",
       "      <th>n_switch_errors</th>\n",
       "      <td>474899</td>\n",
       "      <td>721620</td>\n",
       "      <td>282761</td>\n",
       "      <td>396029</td>\n",
       "      <td>361950</td>\n",
       "      <td>511618</td>\n",
       "      <td>174592</td>\n",
       "      <td>333248</td>\n",
       "    </tr>\n",
       "    <tr>\n",
       "      <th>n_checked</th>\n",
       "      <td>116411762</td>\n",
       "      <td>55578917</td>\n",
       "      <td>40080199</td>\n",
       "      <td>85364549</td>\n",
       "      <td>101999287</td>\n",
       "      <td>46079440</td>\n",
       "      <td>35237358</td>\n",
       "      <td>77833807</td>\n",
       "    </tr>\n",
       "    <tr>\n",
       "      <th>switch_error_rate</th>\n",
       "      <td>0.407948</td>\n",
       "      <td>1.29837</td>\n",
       "      <td>0.705488</td>\n",
       "      <td>0.463927</td>\n",
       "      <td>0.354855</td>\n",
       "      <td>1.110296</td>\n",
       "      <td>0.495474</td>\n",
       "      <td>0.428153</td>\n",
       "    </tr>\n",
       "    <tr>\n",
       "      <th>n_total_switch_errors</th>\n",
       "      <td>474899</td>\n",
       "      <td>721620</td>\n",
       "      <td>282761</td>\n",
       "      <td>396029</td>\n",
       "      <td>361950</td>\n",
       "      <td>511618</td>\n",
       "      <td>174592</td>\n",
       "      <td>333248</td>\n",
       "    </tr>\n",
       "    <tr>\n",
       "      <th>n_flips</th>\n",
       "      <td>216913</td>\n",
       "      <td>277200</td>\n",
       "      <td>121977</td>\n",
       "      <td>184339</td>\n",
       "      <td>169732</td>\n",
       "      <td>219366</td>\n",
       "      <td>83125</td>\n",
       "      <td>157725</td>\n",
       "    </tr>\n",
       "    <tr>\n",
       "      <th>n_consecutive_flips</th>\n",
       "      <td>7184</td>\n",
       "      <td>27455</td>\n",
       "      <td>6508</td>\n",
       "      <td>5243</td>\n",
       "      <td>3390</td>\n",
       "      <td>12846</td>\n",
       "      <td>1439</td>\n",
       "      <td>3281</td>\n",
       "    </tr>\n",
       "    <tr>\n",
       "      <th>n_true_switch_errors</th>\n",
       "      <td>33889</td>\n",
       "      <td>139765</td>\n",
       "      <td>32299</td>\n",
       "      <td>22108</td>\n",
       "      <td>19096</td>\n",
       "      <td>60040</td>\n",
       "      <td>6903</td>\n",
       "      <td>14517</td>\n",
       "    </tr>\n",
       "    <tr>\n",
       "      <th>num_correct_phased_hets</th>\n",
       "      <td>115936863</td>\n",
       "      <td>54857297</td>\n",
       "      <td>39797438</td>\n",
       "      <td>84968520</td>\n",
       "      <td>101637337</td>\n",
       "      <td>45567822</td>\n",
       "      <td>35062766</td>\n",
       "      <td>77500559</td>\n",
       "    </tr>\n",
       "    <tr>\n",
       "      <th>n_total_hets</th>\n",
       "      <td>116635859</td>\n",
       "      <td>55883572</td>\n",
       "      <td>40208684</td>\n",
       "      <td>85554131</td>\n",
       "      <td>102172409</td>\n",
       "      <td>46311652</td>\n",
       "      <td>35321922</td>\n",
       "      <td>77994813</td>\n",
       "    </tr>\n",
       "    <tr>\n",
       "      <th>flip_and_switches_SER</th>\n",
       "      <td>15.848738</td>\n",
       "      <td>25.362946</td>\n",
       "      <td>9.033922</td>\n",
       "      <td>13.873697</td>\n",
       "      <td>13.827223</td>\n",
       "      <td>21.464301</td>\n",
       "      <td>6.393531</td>\n",
       "      <td>13.165651</td>\n",
       "    </tr>\n",
       "    <tr>\n",
       "      <th>flip_error_rate</th>\n",
       "      <td>0.185975</td>\n",
       "      <td>0.496031</td>\n",
       "      <td>0.30336</td>\n",
       "      <td>0.215465</td>\n",
       "      <td>0.166123</td>\n",
       "      <td>0.473673</td>\n",
       "      <td>0.235335</td>\n",
       "      <td>0.202225</td>\n",
       "    </tr>\n",
       "    <tr>\n",
       "      <th>true_switch_error_rate</th>\n",
       "      <td>0.029055</td>\n",
       "      <td>0.2501</td>\n",
       "      <td>0.080328</td>\n",
       "      <td>0.025841</td>\n",
       "      <td>0.01869</td>\n",
       "      <td>0.129643</td>\n",
       "      <td>0.019543</td>\n",
       "      <td>0.018613</td>\n",
       "    </tr>\n",
       "    <tr>\n",
       "      <th>accurately_phased_rate</th>\n",
       "      <td>3876.686593</td>\n",
       "      <td>1964.020542</td>\n",
       "      <td>1286.860834</td>\n",
       "      <td>2979.492545</td>\n",
       "      <td>3879.585276</td>\n",
       "      <td>1868.825082</td>\n",
       "      <td>1290.513027</td>\n",
       "      <td>3080.486457</td>\n",
       "    </tr>\n",
       "    <tr>\n",
       "      <th>n_gt_errors</th>\n",
       "      <td>9552682.0</td>\n",
       "      <td>6916313.0</td>\n",
       "      <td>4587144.0</td>\n",
       "      <td>9665325.0</td>\n",
       "      <td>6867529.0</td>\n",
       "      <td>5090289.0</td>\n",
       "      <td>3571836.0</td>\n",
       "      <td>7676802.0</td>\n",
       "    </tr>\n",
       "    <tr>\n",
       "      <th>n_gt_checked</th>\n",
       "      <td>857820709</td>\n",
       "      <td>481426123</td>\n",
       "      <td>314802029</td>\n",
       "      <td>724957722</td>\n",
       "      <td>747787272</td>\n",
       "      <td>406219522</td>\n",
       "      <td>279764783</td>\n",
       "      <td>665772735</td>\n",
       "    </tr>\n",
       "    <tr>\n",
       "      <th>gt_error_rate</th>\n",
       "      <td>1.113599</td>\n",
       "      <td>1.43663</td>\n",
       "      <td>1.457152</td>\n",
       "      <td>1.333226</td>\n",
       "      <td>0.91838</td>\n",
       "      <td>1.253088</td>\n",
       "      <td>1.276728</td>\n",
       "      <td>1.153066</td>\n",
       "    </tr>\n",
       "    <tr>\n",
       "      <th>N50</th>\n",
       "      <td>5972868442</td>\n",
       "      <td>3108474708</td>\n",
       "      <td>1990430925</td>\n",
       "      <td>4593002664</td>\n",
       "      <td>5922189400</td>\n",
       "      <td>2905799316</td>\n",
       "      <td>1972578898</td>\n",
       "      <td>4705087212</td>\n",
       "    </tr>\n",
       "  </tbody>\n",
       "</table>\n",
       "</div>"
      ],
      "text/plain": [
       "                                     0              1              2  \\\n",
       "panel_genome                    GRCh38         GRCh38         GRCh38   \n",
       "ground_truth_data_source  HPRC_samples  HGSVC_samples  HGSVC_samples   \n",
       "family_status             trio_proband       non_trio    trio_parent   \n",
       "n_switch_errors                 474899         721620         282761   \n",
       "n_checked                    116411762       55578917       40080199   \n",
       "switch_error_rate             0.407948        1.29837       0.705488   \n",
       "n_total_switch_errors           474899         721620         282761   \n",
       "n_flips                         216913         277200         121977   \n",
       "n_consecutive_flips               7184          27455           6508   \n",
       "n_true_switch_errors             33889         139765          32299   \n",
       "num_correct_phased_hets      115936863       54857297       39797438   \n",
       "n_total_hets                 116635859       55883572       40208684   \n",
       "flip_and_switches_SER        15.848738      25.362946       9.033922   \n",
       "flip_error_rate               0.185975       0.496031        0.30336   \n",
       "true_switch_error_rate        0.029055         0.2501       0.080328   \n",
       "accurately_phased_rate     3876.686593    1964.020542    1286.860834   \n",
       "n_gt_errors                  9552682.0      6916313.0      4587144.0   \n",
       "n_gt_checked                 857820709      481426123      314802029   \n",
       "gt_error_rate                 1.113599        1.43663       1.457152   \n",
       "N50                         5972868442     3108474708     1990430925   \n",
       "\n",
       "                                      3             4              5  \\\n",
       "panel_genome                     GRCh38     CHM13v2.0      CHM13v2.0   \n",
       "ground_truth_data_source  HGSVC_samples  HPRC_samples  HGSVC_samples   \n",
       "family_status              trio_proband  trio_proband       non_trio   \n",
       "n_switch_errors                  396029        361950         511618   \n",
       "n_checked                      85364549     101999287       46079440   \n",
       "switch_error_rate              0.463927      0.354855       1.110296   \n",
       "n_total_switch_errors            396029        361950         511618   \n",
       "n_flips                          184339        169732         219366   \n",
       "n_consecutive_flips                5243          3390          12846   \n",
       "n_true_switch_errors              22108         19096          60040   \n",
       "num_correct_phased_hets        84968520     101637337       45567822   \n",
       "n_total_hets                   85554131     102172409       46311652   \n",
       "flip_and_switches_SER         13.873697     13.827223      21.464301   \n",
       "flip_error_rate                0.215465      0.166123       0.473673   \n",
       "true_switch_error_rate         0.025841       0.01869       0.129643   \n",
       "accurately_phased_rate      2979.492545   3879.585276    1868.825082   \n",
       "n_gt_errors                   9665325.0     6867529.0      5090289.0   \n",
       "n_gt_checked                  724957722     747787272      406219522   \n",
       "gt_error_rate                  1.333226       0.91838       1.253088   \n",
       "N50                          4593002664    5922189400     2905799316   \n",
       "\n",
       "                                      6              7  \n",
       "panel_genome                  CHM13v2.0      CHM13v2.0  \n",
       "ground_truth_data_source  HGSVC_samples  HGSVC_samples  \n",
       "family_status               trio_parent   trio_proband  \n",
       "n_switch_errors                  174592         333248  \n",
       "n_checked                      35237358       77833807  \n",
       "switch_error_rate              0.495474       0.428153  \n",
       "n_total_switch_errors            174592         333248  \n",
       "n_flips                           83125         157725  \n",
       "n_consecutive_flips                1439           3281  \n",
       "n_true_switch_errors               6903          14517  \n",
       "num_correct_phased_hets        35062766       77500559  \n",
       "n_total_hets                   35321922       77994813  \n",
       "flip_and_switches_SER          6.393531      13.165651  \n",
       "flip_error_rate                0.235335       0.202225  \n",
       "true_switch_error_rate         0.019543       0.018613  \n",
       "accurately_phased_rate      1290.513027    3080.486457  \n",
       "n_gt_errors                   3571836.0      7676802.0  \n",
       "n_gt_checked                  279764783      665772735  \n",
       "gt_error_rate                  1.276728       1.153066  \n",
       "N50                          1972578898     4705087212  "
      ]
     },
     "execution_count": 13,
     "metadata": {},
     "output_type": "execute_result"
    }
   ],
   "source": [
    "samples_for_export = all_samples.loc[(all_samples.method_of_phasing=='phased_with_parents_and_pedigree')&(all_samples.ground_truth_data_source.isin(('HPRC_samples','HGSVC_samples')))]\n",
    "sample_export_columns = ['sample_id', 'panel_genome', 'ground_truth_data_source', 'family_status','population', 'superpopulation', 'sex', 'n_switch_errors', 'n_checked', 'switch_error_rate',\n",
    "       'n_total_switch_errors', 'n_flips', 'n_consecutive_flips',\n",
    "       'n_true_switch_errors', 'num_correct_phased_hets', 'n_total_hets',\n",
    "       'flip_and_switches_SER', 'flip_error_rate', 'true_switch_error_rate',\n",
    "       'accurately_phased_rate', 'n_gt_errors', 'n_gt_checked',\n",
    "       'gt_error_rate', 'N50']\n",
    "\n",
    "source_accuracy_columns = ['panel_genome', 'ground_truth_data_source', 'family_status', 'n_switch_errors', 'n_checked', 'switch_error_rate',\n",
    "       'n_total_switch_errors', 'n_flips', 'flip_error_rate',\n",
    "       'n_true_switch_errors', 'n_total_hets','true_switch_error_rate',\n",
    "       'n_gt_errors', 'n_gt_checked',\n",
    "       'gt_error_rate', 'N50']\n",
    "\n",
    "samples_for_export = samples_for_export.sort_values(['genome','ground_truth_data_source', 'sample_id']).rename(columns={'genome':'panel_genome'})\n",
    "samples_for_export['family_status'] = 'non_trio'\n",
    "samples_for_export.loc[samples_for_export.trio_phased,'family_status'] = 'trio_proband'\n",
    "samples_for_export.loc[samples_for_export.sample_id.isin(pedigree.fatherID.to_list()+pedigree.motherID.to_list()),'family_status'] = 'trio_parent'\n",
    "source_accuracy = samples_for_export[sample_export_columns].groupby(['panel_genome','ground_truth_data_source','family_status'], observed=True).sum(numeric_only=True).reset_index()\n",
    "source_accuracy['switch_error_rate'] = source_accuracy.n_switch_errors/source_accuracy['n_checked'] * 100\n",
    "source_accuracy['gt_error_rate'] = source_accuracy['n_gt_errors']/source_accuracy['n_gt_checked'] * 100\n",
    "source_accuracy['true_switch_error_rate'] = source_accuracy.n_true_switch_errors/source_accuracy.n_total_hets * 100\n",
    "source_accuracy['flip_error_rate'] = source_accuracy.n_flips/source_accuracy.n_total_hets * 100\n",
    "os.makedirs('figures/supplemental/tables', exist_ok=True)\n",
    "source_accuracy[source_accuracy_columns].to_csv('figures/supplemental/tables/supplemental_ground_truth_source_accuracy_data_unformatted.tsv', sep='\\t', index=False)\n",
    "samples_for_export[sample_export_columns].to_csv('figures/supplemental/tables/supplemental_per_sample_data_unformatted.tsv', sep='\\t', index=False)\n",
    "source_accuracy.T"
   ]
  },
  {
   "cell_type": "code",
   "execution_count": 14,
   "metadata": {},
   "outputs": [
    {
     "data": {
      "application/vnd.microsoft.datawrangler.viewer.v0+json": {
       "columns": [
        {
         "name": "index",
         "rawType": "int64",
         "type": "integer"
        },
        {
         "name": "genome",
         "rawType": "category",
         "type": "unknown"
        },
        {
         "name": "ground_truth_data_source",
         "rawType": "category",
         "type": "unknown"
        },
        {
         "name": "n_switch_errors",
         "rawType": "uint32",
         "type": "integer"
        },
        {
         "name": "n_checked",
         "rawType": "uint32",
         "type": "integer"
        },
        {
         "name": "switch_error_rate",
         "rawType": "float64",
         "type": "float"
        },
        {
         "name": "n_total_switch_errors",
         "rawType": "uint32",
         "type": "integer"
        },
        {
         "name": "n_flips",
         "rawType": "uint32",
         "type": "integer"
        },
        {
         "name": "n_consecutive_flips",
         "rawType": "uint32",
         "type": "integer"
        },
        {
         "name": "n_true_switch_errors",
         "rawType": "uint32",
         "type": "integer"
        },
        {
         "name": "num_correct_phased_hets",
         "rawType": "uint32",
         "type": "integer"
        },
        {
         "name": "n_total_hets",
         "rawType": "uint32",
         "type": "integer"
        },
        {
         "name": "flip_and_switches_SER",
         "rawType": "float64",
         "type": "float"
        },
        {
         "name": "flip_error_rate",
         "rawType": "float64",
         "type": "float"
        },
        {
         "name": "true_switch_error_rate",
         "rawType": "float64",
         "type": "float"
        },
        {
         "name": "accurately_phased_rate",
         "rawType": "float64",
         "type": "float"
        },
        {
         "name": "n_gt_errors",
         "rawType": "float64",
         "type": "float"
        },
        {
         "name": "n_gt_checked",
         "rawType": "uint32",
         "type": "integer"
        },
        {
         "name": "gt_error_rate",
         "rawType": "float64",
         "type": "float"
        },
        {
         "name": "trio_phased",
         "rawType": "int64",
         "type": "integer"
        },
        {
         "name": "N50",
         "rawType": "float64",
         "type": "float"
        },
        {
         "name": "percent_new",
         "rawType": "float64",
         "type": "float"
        }
       ],
       "ref": "3ccb917a-44df-44ab-aea0-f2671c2ce9a0",
       "rows": [
        [
         "0",
         "GRCh38",
         "HPRC_samples",
         "22059",
         "2414208",
         "0.913715802449499",
         "22059",
         "7768",
         "330",
         "6193",
         "2392149",
         "2422306",
         "21.045021069607216",
         "0.32176183659403",
         "0.25652305020942684",
         "2271.2759043890615",
         "268160.0",
         "18126553",
         "1.4793766911999209",
         "23",
         "11296600.0",
         "76.05273702371584"
        ],
        [
         "1",
         "GRCh38",
         "HGSVC_samples_nontrios_only",
         "9007",
         "597692",
         "1.5069634527482383",
         "9007",
         "2851",
         "264",
         "3041",
         "588685",
         "600807",
         "10.400772499662851",
         "0.47700153256192157",
         "0.5087904807158202",
         "686.0326090574936",
         "82156.0",
         "2585422",
         "3.1776630662228444",
         "0",
         "2833560.0",
         "23.146485181130906"
        ],
        [
         "2",
         "CHM13v2.0",
         "HPRC_samples",
         "9068",
         "2173783",
         "0.41715295408971365",
         "9068",
         "4334",
         "58",
         "342",
         "2164715",
         "2178175",
         "9.536866596972445",
         "0.19937592666793325",
         "0.015732941144539266",
         "2285.8652134328636",
         "238853.0",
         "16257872",
         "1.469152912509091",
         "23",
         "34129171.0",
         "76.05273702371584"
        ],
        [
         "3",
         "CHM13v2.0",
         "HGSVC_samples_nontrios_only",
         "8618",
         "548108",
         "1.572317864362498",
         "8618",
         "3585",
         "335",
         "1113",
         "539490",
         "552028",
         "11.224752294437957",
         "0.654068176344808",
         "0.2030621702292249",
         "683.6837979664213",
         "74578.0",
         "2387889",
         "3.123176998595831",
         "0",
         "3651775.0",
         "23.146485181130906"
        ]
       ],
       "shape": {
        "columns": 21,
        "rows": 4
       }
      },
      "text/html": [
       "<div>\n",
       "<style scoped>\n",
       "    .dataframe tbody tr th:only-of-type {\n",
       "        vertical-align: middle;\n",
       "    }\n",
       "\n",
       "    .dataframe tbody tr th {\n",
       "        vertical-align: top;\n",
       "    }\n",
       "\n",
       "    .dataframe thead th {\n",
       "        text-align: right;\n",
       "    }\n",
       "</style>\n",
       "<table border=\"1\" class=\"dataframe\">\n",
       "  <thead>\n",
       "    <tr style=\"text-align: right;\">\n",
       "      <th></th>\n",
       "      <th>genome</th>\n",
       "      <th>ground_truth_data_source</th>\n",
       "      <th>n_switch_errors</th>\n",
       "      <th>n_checked</th>\n",
       "      <th>switch_error_rate</th>\n",
       "      <th>n_total_switch_errors</th>\n",
       "      <th>n_flips</th>\n",
       "      <th>n_consecutive_flips</th>\n",
       "      <th>n_true_switch_errors</th>\n",
       "      <th>num_correct_phased_hets</th>\n",
       "      <th>...</th>\n",
       "      <th>flip_and_switches_SER</th>\n",
       "      <th>flip_error_rate</th>\n",
       "      <th>true_switch_error_rate</th>\n",
       "      <th>accurately_phased_rate</th>\n",
       "      <th>n_gt_errors</th>\n",
       "      <th>n_gt_checked</th>\n",
       "      <th>gt_error_rate</th>\n",
       "      <th>trio_phased</th>\n",
       "      <th>N50</th>\n",
       "      <th>percent_new</th>\n",
       "    </tr>\n",
       "  </thead>\n",
       "  <tbody>\n",
       "    <tr>\n",
       "      <th>0</th>\n",
       "      <td>GRCh38</td>\n",
       "      <td>HPRC_samples</td>\n",
       "      <td>22059</td>\n",
       "      <td>2414208</td>\n",
       "      <td>0.913716</td>\n",
       "      <td>22059</td>\n",
       "      <td>7768</td>\n",
       "      <td>330</td>\n",
       "      <td>6193</td>\n",
       "      <td>2392149</td>\n",
       "      <td>...</td>\n",
       "      <td>21.045021</td>\n",
       "      <td>0.321762</td>\n",
       "      <td>0.256523</td>\n",
       "      <td>2271.275904</td>\n",
       "      <td>268160.0</td>\n",
       "      <td>18126553</td>\n",
       "      <td>1.479377</td>\n",
       "      <td>23</td>\n",
       "      <td>11296600.0</td>\n",
       "      <td>76.052737</td>\n",
       "    </tr>\n",
       "    <tr>\n",
       "      <th>1</th>\n",
       "      <td>GRCh38</td>\n",
       "      <td>HGSVC_samples_nontrios_only</td>\n",
       "      <td>9007</td>\n",
       "      <td>597692</td>\n",
       "      <td>1.506963</td>\n",
       "      <td>9007</td>\n",
       "      <td>2851</td>\n",
       "      <td>264</td>\n",
       "      <td>3041</td>\n",
       "      <td>588685</td>\n",
       "      <td>...</td>\n",
       "      <td>10.400772</td>\n",
       "      <td>0.477002</td>\n",
       "      <td>0.508790</td>\n",
       "      <td>686.032609</td>\n",
       "      <td>82156.0</td>\n",
       "      <td>2585422</td>\n",
       "      <td>3.177663</td>\n",
       "      <td>0</td>\n",
       "      <td>2833560.0</td>\n",
       "      <td>23.146485</td>\n",
       "    </tr>\n",
       "    <tr>\n",
       "      <th>2</th>\n",
       "      <td>CHM13v2.0</td>\n",
       "      <td>HPRC_samples</td>\n",
       "      <td>9068</td>\n",
       "      <td>2173783</td>\n",
       "      <td>0.417153</td>\n",
       "      <td>9068</td>\n",
       "      <td>4334</td>\n",
       "      <td>58</td>\n",
       "      <td>342</td>\n",
       "      <td>2164715</td>\n",
       "      <td>...</td>\n",
       "      <td>9.536867</td>\n",
       "      <td>0.199376</td>\n",
       "      <td>0.015733</td>\n",
       "      <td>2285.865213</td>\n",
       "      <td>238853.0</td>\n",
       "      <td>16257872</td>\n",
       "      <td>1.469153</td>\n",
       "      <td>23</td>\n",
       "      <td>34129171.0</td>\n",
       "      <td>76.052737</td>\n",
       "    </tr>\n",
       "    <tr>\n",
       "      <th>3</th>\n",
       "      <td>CHM13v2.0</td>\n",
       "      <td>HGSVC_samples_nontrios_only</td>\n",
       "      <td>8618</td>\n",
       "      <td>548108</td>\n",
       "      <td>1.572318</td>\n",
       "      <td>8618</td>\n",
       "      <td>3585</td>\n",
       "      <td>335</td>\n",
       "      <td>1113</td>\n",
       "      <td>539490</td>\n",
       "      <td>...</td>\n",
       "      <td>11.224752</td>\n",
       "      <td>0.654068</td>\n",
       "      <td>0.203062</td>\n",
       "      <td>683.683798</td>\n",
       "      <td>74578.0</td>\n",
       "      <td>2387889</td>\n",
       "      <td>3.123177</td>\n",
       "      <td>0</td>\n",
       "      <td>3651775.0</td>\n",
       "      <td>23.146485</td>\n",
       "    </tr>\n",
       "  </tbody>\n",
       "</table>\n",
       "<p>4 rows × 21 columns</p>\n",
       "</div>"
      ],
      "text/plain": [
       "      genome     ground_truth_data_source  n_switch_errors  n_checked  \\\n",
       "0     GRCh38                 HPRC_samples            22059    2414208   \n",
       "1     GRCh38  HGSVC_samples_nontrios_only             9007     597692   \n",
       "2  CHM13v2.0                 HPRC_samples             9068    2173783   \n",
       "3  CHM13v2.0  HGSVC_samples_nontrios_only             8618     548108   \n",
       "\n",
       "   switch_error_rate  n_total_switch_errors  n_flips  n_consecutive_flips  \\\n",
       "0           0.913716                  22059     7768                  330   \n",
       "1           1.506963                   9007     2851                  264   \n",
       "2           0.417153                   9068     4334                   58   \n",
       "3           1.572318                   8618     3585                  335   \n",
       "\n",
       "   n_true_switch_errors  num_correct_phased_hets  ...  flip_and_switches_SER  \\\n",
       "0                  6193                  2392149  ...              21.045021   \n",
       "1                  3041                   588685  ...              10.400772   \n",
       "2                   342                  2164715  ...               9.536867   \n",
       "3                  1113                   539490  ...              11.224752   \n",
       "\n",
       "   flip_error_rate  true_switch_error_rate  accurately_phased_rate  \\\n",
       "0         0.321762                0.256523             2271.275904   \n",
       "1         0.477002                0.508790              686.032609   \n",
       "2         0.199376                0.015733             2285.865213   \n",
       "3         0.654068                0.203062              683.683798   \n",
       "\n",
       "   n_gt_errors  n_gt_checked  gt_error_rate  trio_phased         N50  \\\n",
       "0     268160.0      18126553       1.479377           23  11296600.0   \n",
       "1      82156.0       2585422       3.177663            0   2833560.0   \n",
       "2     238853.0      16257872       1.469153           23  34129171.0   \n",
       "3      74578.0       2387889       3.123177            0   3651775.0   \n",
       "\n",
       "   percent_new  \n",
       "0    76.052737  \n",
       "1    23.146485  \n",
       "2    76.052737  \n",
       "3    23.146485  \n",
       "\n",
       "[4 rows x 21 columns]"
      ]
     },
     "execution_count": 14,
     "metadata": {},
     "output_type": "execute_result"
    }
   ],
   "source": [
    "def group_phasing_statistics(df, columns_to_groupby):\n",
    "    df_cols = df.columns\n",
    "    assert all([c in df_cols for c in columns_to_groupby])\n",
    "\n",
    "    df = df.groupby(columns_to_groupby, observed=True).sum(numeric_only=True).reset_index()\n",
    "\n",
    "    if 'n_gt_errors' in df_cols:\n",
    "        df['gt_error_rate'] = df.n_gt_errors/df.n_gt_checked * 100\n",
    "    if 'n_true_switch_errors' in df_cols:\n",
    "        # See definitions below.\n",
    "        df['flip_error_rate'] = df.n_flips/df.n_checked*100\n",
    "        df['true_switch_error_rate'] = df.n_true_switch_errors/df.n_checked*100\n",
    "    if 'n_switch_errors' in df_cols:\n",
    "        df['switch_error_rate'] = df.n_switch_errors/df.n_checked*100\n",
    "\n",
    "    return df\n",
    "\n",
    "chrX = all_chroms.loc[(all_chroms.sex=='Female')&(all_chroms.chrom=='chrX') & (all_chroms.method_of_phasing=='phased_with_parents_and_pedigree') & all_chroms.ground_truth_data_source.isin(['HPRC_samples','HGSVC_samples_nontrios_only',])]\n",
    "\n",
    "group_phasing_statistics(chrX, ['genome','ground_truth_data_source'])"
   ]
  },
  {
   "cell_type": "code",
   "execution_count": 15,
   "metadata": {},
   "outputs": [
    {
     "ename": "FileNotFoundError",
     "evalue": "[Errno 2] No such file or directory: 'figures/correlation_error_rates_and_gt_error_rate.csv'",
     "output_type": "error",
     "traceback": [
      "\u001b[31m---------------------------------------------------------------------------\u001b[39m",
      "\u001b[31mFileNotFoundError\u001b[39m                         Traceback (most recent call last)",
      "\u001b[36mCell\u001b[39m\u001b[36m \u001b[39m\u001b[32mIn[15]\u001b[39m\u001b[32m, line 3\u001b[39m\n\u001b[32m      1\u001b[39m \u001b[38;5;66;03m### Data generated in make_figures.ipynb\u001b[39;00m\n\u001b[32m----> \u001b[39m\u001b[32m3\u001b[39m error_rate_corr = \u001b[43mpd\u001b[49m\u001b[43m.\u001b[49m\u001b[43mread_csv\u001b[49m\u001b[43m(\u001b[49m\u001b[33;43m'\u001b[39;49m\u001b[33;43mfigures/correlation_error_rates_and_gt_error_rate.csv\u001b[39;49m\u001b[33;43m'\u001b[39;49m\u001b[43m)\u001b[49m\n\u001b[32m      4\u001b[39m error_rate_corr\n",
      "\u001b[36mFile \u001b[39m\u001b[32m/home/lalli/.linuxbrew/opt/python@3.11/lib/python3.11/site-packages/pandas/io/parsers/readers.py:1026\u001b[39m, in \u001b[36mread_csv\u001b[39m\u001b[34m(filepath_or_buffer, sep, delimiter, header, names, index_col, usecols, dtype, engine, converters, true_values, false_values, skipinitialspace, skiprows, skipfooter, nrows, na_values, keep_default_na, na_filter, verbose, skip_blank_lines, parse_dates, infer_datetime_format, keep_date_col, date_parser, date_format, dayfirst, cache_dates, iterator, chunksize, compression, thousands, decimal, lineterminator, quotechar, quoting, doublequote, escapechar, comment, encoding, encoding_errors, dialect, on_bad_lines, delim_whitespace, low_memory, memory_map, float_precision, storage_options, dtype_backend)\u001b[39m\n\u001b[32m   1013\u001b[39m kwds_defaults = _refine_defaults_read(\n\u001b[32m   1014\u001b[39m     dialect,\n\u001b[32m   1015\u001b[39m     delimiter,\n\u001b[32m   (...)\u001b[39m\u001b[32m   1022\u001b[39m     dtype_backend=dtype_backend,\n\u001b[32m   1023\u001b[39m )\n\u001b[32m   1024\u001b[39m kwds.update(kwds_defaults)\n\u001b[32m-> \u001b[39m\u001b[32m1026\u001b[39m \u001b[38;5;28;01mreturn\u001b[39;00m \u001b[43m_read\u001b[49m\u001b[43m(\u001b[49m\u001b[43mfilepath_or_buffer\u001b[49m\u001b[43m,\u001b[49m\u001b[43m \u001b[49m\u001b[43mkwds\u001b[49m\u001b[43m)\u001b[49m\n",
      "\u001b[36mFile \u001b[39m\u001b[32m/home/lalli/.linuxbrew/opt/python@3.11/lib/python3.11/site-packages/pandas/io/parsers/readers.py:620\u001b[39m, in \u001b[36m_read\u001b[39m\u001b[34m(filepath_or_buffer, kwds)\u001b[39m\n\u001b[32m    617\u001b[39m _validate_names(kwds.get(\u001b[33m\"\u001b[39m\u001b[33mnames\u001b[39m\u001b[33m\"\u001b[39m, \u001b[38;5;28;01mNone\u001b[39;00m))\n\u001b[32m    619\u001b[39m \u001b[38;5;66;03m# Create the parser.\u001b[39;00m\n\u001b[32m--> \u001b[39m\u001b[32m620\u001b[39m parser = \u001b[43mTextFileReader\u001b[49m\u001b[43m(\u001b[49m\u001b[43mfilepath_or_buffer\u001b[49m\u001b[43m,\u001b[49m\u001b[43m \u001b[49m\u001b[43m*\u001b[49m\u001b[43m*\u001b[49m\u001b[43mkwds\u001b[49m\u001b[43m)\u001b[49m\n\u001b[32m    622\u001b[39m \u001b[38;5;28;01mif\u001b[39;00m chunksize \u001b[38;5;129;01mor\u001b[39;00m iterator:\n\u001b[32m    623\u001b[39m     \u001b[38;5;28;01mreturn\u001b[39;00m parser\n",
      "\u001b[36mFile \u001b[39m\u001b[32m/home/lalli/.linuxbrew/opt/python@3.11/lib/python3.11/site-packages/pandas/io/parsers/readers.py:1620\u001b[39m, in \u001b[36mTextFileReader.__init__\u001b[39m\u001b[34m(self, f, engine, **kwds)\u001b[39m\n\u001b[32m   1617\u001b[39m     \u001b[38;5;28mself\u001b[39m.options[\u001b[33m\"\u001b[39m\u001b[33mhas_index_names\u001b[39m\u001b[33m\"\u001b[39m] = kwds[\u001b[33m\"\u001b[39m\u001b[33mhas_index_names\u001b[39m\u001b[33m\"\u001b[39m]\n\u001b[32m   1619\u001b[39m \u001b[38;5;28mself\u001b[39m.handles: IOHandles | \u001b[38;5;28;01mNone\u001b[39;00m = \u001b[38;5;28;01mNone\u001b[39;00m\n\u001b[32m-> \u001b[39m\u001b[32m1620\u001b[39m \u001b[38;5;28mself\u001b[39m._engine = \u001b[38;5;28;43mself\u001b[39;49m\u001b[43m.\u001b[49m\u001b[43m_make_engine\u001b[49m\u001b[43m(\u001b[49m\u001b[43mf\u001b[49m\u001b[43m,\u001b[49m\u001b[43m \u001b[49m\u001b[38;5;28;43mself\u001b[39;49m\u001b[43m.\u001b[49m\u001b[43mengine\u001b[49m\u001b[43m)\u001b[49m\n",
      "\u001b[36mFile \u001b[39m\u001b[32m/home/lalli/.linuxbrew/opt/python@3.11/lib/python3.11/site-packages/pandas/io/parsers/readers.py:1880\u001b[39m, in \u001b[36mTextFileReader._make_engine\u001b[39m\u001b[34m(self, f, engine)\u001b[39m\n\u001b[32m   1878\u001b[39m     \u001b[38;5;28;01mif\u001b[39;00m \u001b[33m\"\u001b[39m\u001b[33mb\u001b[39m\u001b[33m\"\u001b[39m \u001b[38;5;129;01mnot\u001b[39;00m \u001b[38;5;129;01min\u001b[39;00m mode:\n\u001b[32m   1879\u001b[39m         mode += \u001b[33m\"\u001b[39m\u001b[33mb\u001b[39m\u001b[33m\"\u001b[39m\n\u001b[32m-> \u001b[39m\u001b[32m1880\u001b[39m \u001b[38;5;28mself\u001b[39m.handles = \u001b[43mget_handle\u001b[49m\u001b[43m(\u001b[49m\n\u001b[32m   1881\u001b[39m \u001b[43m    \u001b[49m\u001b[43mf\u001b[49m\u001b[43m,\u001b[49m\n\u001b[32m   1882\u001b[39m \u001b[43m    \u001b[49m\u001b[43mmode\u001b[49m\u001b[43m,\u001b[49m\n\u001b[32m   1883\u001b[39m \u001b[43m    \u001b[49m\u001b[43mencoding\u001b[49m\u001b[43m=\u001b[49m\u001b[38;5;28;43mself\u001b[39;49m\u001b[43m.\u001b[49m\u001b[43moptions\u001b[49m\u001b[43m.\u001b[49m\u001b[43mget\u001b[49m\u001b[43m(\u001b[49m\u001b[33;43m\"\u001b[39;49m\u001b[33;43mencoding\u001b[39;49m\u001b[33;43m\"\u001b[39;49m\u001b[43m,\u001b[49m\u001b[43m \u001b[49m\u001b[38;5;28;43;01mNone\u001b[39;49;00m\u001b[43m)\u001b[49m\u001b[43m,\u001b[49m\n\u001b[32m   1884\u001b[39m \u001b[43m    \u001b[49m\u001b[43mcompression\u001b[49m\u001b[43m=\u001b[49m\u001b[38;5;28;43mself\u001b[39;49m\u001b[43m.\u001b[49m\u001b[43moptions\u001b[49m\u001b[43m.\u001b[49m\u001b[43mget\u001b[49m\u001b[43m(\u001b[49m\u001b[33;43m\"\u001b[39;49m\u001b[33;43mcompression\u001b[39;49m\u001b[33;43m\"\u001b[39;49m\u001b[43m,\u001b[49m\u001b[43m \u001b[49m\u001b[38;5;28;43;01mNone\u001b[39;49;00m\u001b[43m)\u001b[49m\u001b[43m,\u001b[49m\n\u001b[32m   1885\u001b[39m \u001b[43m    \u001b[49m\u001b[43mmemory_map\u001b[49m\u001b[43m=\u001b[49m\u001b[38;5;28;43mself\u001b[39;49m\u001b[43m.\u001b[49m\u001b[43moptions\u001b[49m\u001b[43m.\u001b[49m\u001b[43mget\u001b[49m\u001b[43m(\u001b[49m\u001b[33;43m\"\u001b[39;49m\u001b[33;43mmemory_map\u001b[39;49m\u001b[33;43m\"\u001b[39;49m\u001b[43m,\u001b[49m\u001b[43m \u001b[49m\u001b[38;5;28;43;01mFalse\u001b[39;49;00m\u001b[43m)\u001b[49m\u001b[43m,\u001b[49m\n\u001b[32m   1886\u001b[39m \u001b[43m    \u001b[49m\u001b[43mis_text\u001b[49m\u001b[43m=\u001b[49m\u001b[43mis_text\u001b[49m\u001b[43m,\u001b[49m\n\u001b[32m   1887\u001b[39m \u001b[43m    \u001b[49m\u001b[43merrors\u001b[49m\u001b[43m=\u001b[49m\u001b[38;5;28;43mself\u001b[39;49m\u001b[43m.\u001b[49m\u001b[43moptions\u001b[49m\u001b[43m.\u001b[49m\u001b[43mget\u001b[49m\u001b[43m(\u001b[49m\u001b[33;43m\"\u001b[39;49m\u001b[33;43mencoding_errors\u001b[39;49m\u001b[33;43m\"\u001b[39;49m\u001b[43m,\u001b[49m\u001b[43m \u001b[49m\u001b[33;43m\"\u001b[39;49m\u001b[33;43mstrict\u001b[39;49m\u001b[33;43m\"\u001b[39;49m\u001b[43m)\u001b[49m\u001b[43m,\u001b[49m\n\u001b[32m   1888\u001b[39m \u001b[43m    \u001b[49m\u001b[43mstorage_options\u001b[49m\u001b[43m=\u001b[49m\u001b[38;5;28;43mself\u001b[39;49m\u001b[43m.\u001b[49m\u001b[43moptions\u001b[49m\u001b[43m.\u001b[49m\u001b[43mget\u001b[49m\u001b[43m(\u001b[49m\u001b[33;43m\"\u001b[39;49m\u001b[33;43mstorage_options\u001b[39;49m\u001b[33;43m\"\u001b[39;49m\u001b[43m,\u001b[49m\u001b[43m \u001b[49m\u001b[38;5;28;43;01mNone\u001b[39;49;00m\u001b[43m)\u001b[49m\u001b[43m,\u001b[49m\n\u001b[32m   1889\u001b[39m \u001b[43m\u001b[49m\u001b[43m)\u001b[49m\n\u001b[32m   1890\u001b[39m \u001b[38;5;28;01massert\u001b[39;00m \u001b[38;5;28mself\u001b[39m.handles \u001b[38;5;129;01mis\u001b[39;00m \u001b[38;5;129;01mnot\u001b[39;00m \u001b[38;5;28;01mNone\u001b[39;00m\n\u001b[32m   1891\u001b[39m f = \u001b[38;5;28mself\u001b[39m.handles.handle\n",
      "\u001b[36mFile \u001b[39m\u001b[32m/home/lalli/.linuxbrew/opt/python@3.11/lib/python3.11/site-packages/pandas/io/common.py:873\u001b[39m, in \u001b[36mget_handle\u001b[39m\u001b[34m(path_or_buf, mode, encoding, compression, memory_map, is_text, errors, storage_options)\u001b[39m\n\u001b[32m    868\u001b[39m \u001b[38;5;28;01melif\u001b[39;00m \u001b[38;5;28misinstance\u001b[39m(handle, \u001b[38;5;28mstr\u001b[39m):\n\u001b[32m    869\u001b[39m     \u001b[38;5;66;03m# Check whether the filename is to be opened in binary mode.\u001b[39;00m\n\u001b[32m    870\u001b[39m     \u001b[38;5;66;03m# Binary mode does not support 'encoding' and 'newline'.\u001b[39;00m\n\u001b[32m    871\u001b[39m     \u001b[38;5;28;01mif\u001b[39;00m ioargs.encoding \u001b[38;5;129;01mand\u001b[39;00m \u001b[33m\"\u001b[39m\u001b[33mb\u001b[39m\u001b[33m\"\u001b[39m \u001b[38;5;129;01mnot\u001b[39;00m \u001b[38;5;129;01min\u001b[39;00m ioargs.mode:\n\u001b[32m    872\u001b[39m         \u001b[38;5;66;03m# Encoding\u001b[39;00m\n\u001b[32m--> \u001b[39m\u001b[32m873\u001b[39m         handle = \u001b[38;5;28mopen\u001b[39m(\n\u001b[32m    874\u001b[39m             handle,\n\u001b[32m    875\u001b[39m             ioargs.mode,\n\u001b[32m    876\u001b[39m             encoding=ioargs.encoding,\n\u001b[32m    877\u001b[39m             errors=errors,\n\u001b[32m    878\u001b[39m             newline=\u001b[33m\"\u001b[39m\u001b[33m\"\u001b[39m,\n\u001b[32m    879\u001b[39m         )\n\u001b[32m    880\u001b[39m     \u001b[38;5;28;01melse\u001b[39;00m:\n\u001b[32m    881\u001b[39m         \u001b[38;5;66;03m# Binary mode\u001b[39;00m\n\u001b[32m    882\u001b[39m         handle = \u001b[38;5;28mopen\u001b[39m(handle, ioargs.mode)\n",
      "\u001b[31mFileNotFoundError\u001b[39m: [Errno 2] No such file or directory: 'figures/correlation_error_rates_and_gt_error_rate.csv'"
     ]
    }
   ],
   "source": [
    "### Data generated in make_figures.ipynb\n",
    "\n",
    "error_rate_corr = pd.read_csv('figures/correlation_error_rates_and_gt_error_rate.csv')\n",
    "error_rate_corr"
   ]
  },
  {
   "cell_type": "code",
   "execution_count": null,
   "metadata": {},
   "outputs": [],
   "source": [
    "HPRC_samples_phased_with_panel = binned_maf_data.loc[(binned_maf_data.ground_truth_data_source=='HPRC_samples')&(binned_maf_data.method_of_phasing == '1kgp_variation_phased_with_reference_panel')]\n",
    "HPRC_samples_phased_with_panel = group_phasing_statistics(HPRC_samples_phased_with_panel, ['type','genome','Syntenic']).drop(columns=['MAC','AN','MAF'])\n",
    "error_rate_corr.to_csv('figures/panel_phased_HPRC_samples_summary_data.csv', index=False)"
   ]
  },
  {
   "cell_type": "markdown",
   "metadata": {},
   "source": [
    "## Get number of probands/parents in 1KGP"
   ]
  },
  {
   "cell_type": "code",
   "execution_count": null,
   "metadata": {},
   "outputs": [
    {
     "data": {
      "text/plain": [
       "(1206, 604, 1392)"
      ]
     },
     "execution_count": 19,
     "metadata": {},
     "output_type": "execute_result"
    }
   ],
   "source": [
    "parents = len(trio_parents) + len(duo_parents)\n",
    "probands = len(trio_children) + len(duo_children)\n",
    "statistical = 3202-parents-probands\n",
    "parents, probands, statistical"
   ]
  },
  {
   "cell_type": "code",
   "execution_count": null,
   "metadata": {},
   "outputs": [
    {
     "name": "stdout",
     "output_type": "stream",
     "text": [
      "These samples are in both the HPRC and HGSVC datasets. We will use the HPRC genomes.\n",
      "['HG02818', 'HG00733']\n"
     ]
    }
   ],
   "source": [
    "number_of_datasets_per_sample = all_samples.loc[(all_samples.genome=='GRCh38') &\n",
    "                                (all_samples['method_of_phasing']=='phased_with_parents_and_pedigree') &\n",
    "                                (all_samples.ground_truth_data_source.isin(('HPRC_samples','HGSVC_samples')))\n",
    "                                ].groupby(['sample_id'], observed=True).size().sort_values()\n",
    "print (\"These samples are in both the HPRC and HGSVC datasets. We will use the HPRC genomes.\")\n",
    "print (number_of_datasets_per_sample.loc[number_of_datasets_per_sample>1].index.tolist())"
   ]
  },
  {
   "cell_type": "code",
   "execution_count": null,
   "metadata": {},
   "outputs": [
    {
     "data": {
      "application/vnd.microsoft.datawrangler.viewer.v0+json": {
       "columns": [
        {
         "name": "index",
         "rawType": "int64",
         "type": "integer"
        },
        {
         "name": "genome",
         "rawType": "category",
         "type": "unknown"
        },
        {
         "name": "method_of_phasing",
         "rawType": "category",
         "type": "unknown"
        },
        {
         "name": "ground_truth_data_source",
         "rawType": "category",
         "type": "unknown"
        },
        {
         "name": "trio_phased",
         "rawType": "uint64",
         "type": "integer"
        },
        {
         "name": "n_switch_errors",
         "rawType": "uint32",
         "type": "integer"
        },
        {
         "name": "n_checked",
         "rawType": "uint32",
         "type": "integer"
        },
        {
         "name": "switch_error_rate",
         "rawType": "float64",
         "type": "float"
        },
        {
         "name": "n_total_switch_errors",
         "rawType": "uint32",
         "type": "integer"
        },
        {
         "name": "n_flips",
         "rawType": "uint32",
         "type": "integer"
        },
        {
         "name": "n_consecutive_flips",
         "rawType": "uint32",
         "type": "integer"
        },
        {
         "name": "n_true_switch_errors",
         "rawType": "uint32",
         "type": "integer"
        },
        {
         "name": "num_correct_phased_hets",
         "rawType": "uint32",
         "type": "integer"
        },
        {
         "name": "n_total_hets",
         "rawType": "uint32",
         "type": "integer"
        },
        {
         "name": "flip_and_switches_SER",
         "rawType": "float64",
         "type": "float"
        },
        {
         "name": "flip_error_rate",
         "rawType": "float64",
         "type": "float"
        },
        {
         "name": "true_switch_error_rate",
         "rawType": "float64",
         "type": "float"
        },
        {
         "name": "accurately_phased_rate",
         "rawType": "float64",
         "type": "float"
        },
        {
         "name": "n_gt_errors",
         "rawType": "float64",
         "type": "float"
        },
        {
         "name": "n_gt_checked",
         "rawType": "uint32",
         "type": "integer"
        },
        {
         "name": "gt_error_rate",
         "rawType": "float64",
         "type": "float"
        },
        {
         "name": "N50",
         "rawType": "float64",
         "type": "float"
        },
        {
         "name": "L50",
         "rawType": "object",
         "type": "unknown"
        }
       ],
       "ref": "be6abc14-7b88-4410-aa6a-a2d1b4139323",
       "rows": [
        [
         "0",
         "CHM13v2.0",
         "phased_with_parents_and_pedigree",
         "HPRC_samples",
         "39",
         "361950",
         "101999287",
         "0.3548554216854477",
         "361950",
         "169732",
         "3390",
         "19096",
         "101637337",
         "102172409",
         "0.3542541509420611",
         "0.166123126254173",
         "0.018689977252077907",
         "99.47630480162213",
         "6867529.0",
         "747787272",
         "0.9183800336200427",
         "151851010.25641027",
         null
        ],
        [
         "8",
         "GRCh38",
         "phased_with_parents_and_pedigree",
         "HPRC_samples",
         "39",
         "474899",
         "116411762",
         "0.40794760928023754",
         "474899",
         "216913",
         "7184",
         "33889",
         "115936863",
         "116635859",
         "0.407163803714945",
         "0.18597453807066314",
         "0.029055386817188014",
         "99.40070231745796",
         "9552682.0",
         "857820709",
         "1.113598902401877",
         "153150472.87179488",
         null
        ]
       ],
       "shape": {
        "columns": 22,
        "rows": 2
       }
      },
      "text/html": [
       "<div>\n",
       "<style scoped>\n",
       "    .dataframe tbody tr th:only-of-type {\n",
       "        vertical-align: middle;\n",
       "    }\n",
       "\n",
       "    .dataframe tbody tr th {\n",
       "        vertical-align: top;\n",
       "    }\n",
       "\n",
       "    .dataframe thead th {\n",
       "        text-align: right;\n",
       "    }\n",
       "</style>\n",
       "<table border=\"1\" class=\"dataframe\">\n",
       "  <thead>\n",
       "    <tr style=\"text-align: right;\">\n",
       "      <th></th>\n",
       "      <th>genome</th>\n",
       "      <th>method_of_phasing</th>\n",
       "      <th>ground_truth_data_source</th>\n",
       "      <th>trio_phased</th>\n",
       "      <th>n_switch_errors</th>\n",
       "      <th>n_checked</th>\n",
       "      <th>switch_error_rate</th>\n",
       "      <th>n_total_switch_errors</th>\n",
       "      <th>n_flips</th>\n",
       "      <th>n_consecutive_flips</th>\n",
       "      <th>...</th>\n",
       "      <th>n_total_hets</th>\n",
       "      <th>flip_and_switches_SER</th>\n",
       "      <th>flip_error_rate</th>\n",
       "      <th>true_switch_error_rate</th>\n",
       "      <th>accurately_phased_rate</th>\n",
       "      <th>n_gt_errors</th>\n",
       "      <th>n_gt_checked</th>\n",
       "      <th>gt_error_rate</th>\n",
       "      <th>N50</th>\n",
       "      <th>L50</th>\n",
       "    </tr>\n",
       "  </thead>\n",
       "  <tbody>\n",
       "    <tr>\n",
       "      <th>0</th>\n",
       "      <td>CHM13v2.0</td>\n",
       "      <td>phased_with_parents_and_pedigree</td>\n",
       "      <td>HPRC_samples</td>\n",
       "      <td>39</td>\n",
       "      <td>361950</td>\n",
       "      <td>101999287</td>\n",
       "      <td>0.354855</td>\n",
       "      <td>361950</td>\n",
       "      <td>169732</td>\n",
       "      <td>3390</td>\n",
       "      <td>...</td>\n",
       "      <td>102172409</td>\n",
       "      <td>0.354254</td>\n",
       "      <td>0.166123</td>\n",
       "      <td>0.018690</td>\n",
       "      <td>99.476305</td>\n",
       "      <td>6867529.0</td>\n",
       "      <td>747787272</td>\n",
       "      <td>0.918380</td>\n",
       "      <td>1.518510e+08</td>\n",
       "      <td>None</td>\n",
       "    </tr>\n",
       "    <tr>\n",
       "      <th>8</th>\n",
       "      <td>GRCh38</td>\n",
       "      <td>phased_with_parents_and_pedigree</td>\n",
       "      <td>HPRC_samples</td>\n",
       "      <td>39</td>\n",
       "      <td>474899</td>\n",
       "      <td>116411762</td>\n",
       "      <td>0.407948</td>\n",
       "      <td>474899</td>\n",
       "      <td>216913</td>\n",
       "      <td>7184</td>\n",
       "      <td>...</td>\n",
       "      <td>116635859</td>\n",
       "      <td>0.407164</td>\n",
       "      <td>0.185975</td>\n",
       "      <td>0.029055</td>\n",
       "      <td>99.400702</td>\n",
       "      <td>9552682.0</td>\n",
       "      <td>857820709</td>\n",
       "      <td>1.113599</td>\n",
       "      <td>1.531505e+08</td>\n",
       "      <td>None</td>\n",
       "    </tr>\n",
       "  </tbody>\n",
       "</table>\n",
       "<p>2 rows × 22 columns</p>\n",
       "</div>"
      ],
      "text/plain": [
       "      genome                 method_of_phasing ground_truth_data_source  \\\n",
       "0  CHM13v2.0  phased_with_parents_and_pedigree             HPRC_samples   \n",
       "8     GRCh38  phased_with_parents_and_pedigree             HPRC_samples   \n",
       "\n",
       "   trio_phased  n_switch_errors  n_checked  switch_error_rate  \\\n",
       "0           39           361950  101999287           0.354855   \n",
       "8           39           474899  116411762           0.407948   \n",
       "\n",
       "   n_total_switch_errors  n_flips  n_consecutive_flips  ...  n_total_hets  \\\n",
       "0                 361950   169732                 3390  ...     102172409   \n",
       "8                 474899   216913                 7184  ...     116635859   \n",
       "\n",
       "   flip_and_switches_SER  flip_error_rate  true_switch_error_rate  \\\n",
       "0               0.354254         0.166123                0.018690   \n",
       "8               0.407164         0.185975                0.029055   \n",
       "\n",
       "   accurately_phased_rate  n_gt_errors  n_gt_checked  gt_error_rate  \\\n",
       "0               99.476305    6867529.0     747787272       0.918380   \n",
       "8               99.400702    9552682.0     857820709       1.113599   \n",
       "\n",
       "            N50   L50  \n",
       "0  1.518510e+08  None  \n",
       "8  1.531505e+08  None  \n",
       "\n",
       "[2 rows x 22 columns]"
      ]
     },
     "execution_count": 21,
     "metadata": {},
     "output_type": "execute_result"
    }
   ],
   "source": [
    "all_methods.loc[(all_methods.method_of_phasing == 'phased_with_parents_and_pedigree')& (all_methods.ground_truth_data_source=='HPRC_samples')]"
   ]
  },
  {
   "cell_type": "code",
   "execution_count": null,
   "metadata": {},
   "outputs": [
    {
     "data": {
      "application/vnd.microsoft.datawrangler.viewer.v0+json": {
       "columns": [
        {
         "name": "index",
         "rawType": "int64",
         "type": "integer"
        },
        {
         "name": "genome",
         "rawType": "category",
         "type": "unknown"
        },
        {
         "name": "superpopulation",
         "rawType": "object",
         "type": "string"
        },
        {
         "name": "switch_error_ratio",
         "rawType": "float64",
         "type": "float"
        }
       ],
       "ref": "bdde578a-38ec-45da-a5af-6e5ed1e7c01d",
       "rows": [
        [
         "0",
         "GRCh38",
         "AFR",
         "1.6061819979532916"
        ],
        [
         "2",
         "GRCh38",
         "AMR",
         "1.0"
        ],
        [
         "4",
         "GRCh38",
         "EAS",
         "1.9349322837700278"
        ],
        [
         "6",
         "GRCh38",
         "EUR",
         "1.7908896619558212"
        ],
        [
         "8",
         "GRCh38",
         "SAS",
         "1.542042112978365"
        ],
        [
         "1",
         "CHM13v2.0",
         "AFR",
         "1.496698722083852"
        ],
        [
         "3",
         "CHM13v2.0",
         "AMR",
         "1.0"
        ],
        [
         "5",
         "CHM13v2.0",
         "EAS",
         "2.5389282975278444"
        ],
        [
         "7",
         "CHM13v2.0",
         "EUR",
         "2.2045719508027997"
        ],
        [
         "9",
         "CHM13v2.0",
         "SAS",
         "1.7126554317092646"
        ]
       ],
       "shape": {
        "columns": 3,
        "rows": 10
       }
      },
      "text/html": [
       "<div>\n",
       "<style scoped>\n",
       "    .dataframe tbody tr th:only-of-type {\n",
       "        vertical-align: middle;\n",
       "    }\n",
       "\n",
       "    .dataframe tbody tr th {\n",
       "        vertical-align: top;\n",
       "    }\n",
       "\n",
       "    .dataframe thead th {\n",
       "        text-align: right;\n",
       "    }\n",
       "</style>\n",
       "<table border=\"1\" class=\"dataframe\">\n",
       "  <thead>\n",
       "    <tr style=\"text-align: right;\">\n",
       "      <th></th>\n",
       "      <th>genome</th>\n",
       "      <th>superpopulation</th>\n",
       "      <th>switch_error_ratio</th>\n",
       "    </tr>\n",
       "  </thead>\n",
       "  <tbody>\n",
       "    <tr>\n",
       "      <th>0</th>\n",
       "      <td>GRCh38</td>\n",
       "      <td>AFR</td>\n",
       "      <td>1.606182</td>\n",
       "    </tr>\n",
       "    <tr>\n",
       "      <th>2</th>\n",
       "      <td>GRCh38</td>\n",
       "      <td>AMR</td>\n",
       "      <td>1.000000</td>\n",
       "    </tr>\n",
       "    <tr>\n",
       "      <th>4</th>\n",
       "      <td>GRCh38</td>\n",
       "      <td>EAS</td>\n",
       "      <td>1.934932</td>\n",
       "    </tr>\n",
       "    <tr>\n",
       "      <th>6</th>\n",
       "      <td>GRCh38</td>\n",
       "      <td>EUR</td>\n",
       "      <td>1.790890</td>\n",
       "    </tr>\n",
       "    <tr>\n",
       "      <th>8</th>\n",
       "      <td>GRCh38</td>\n",
       "      <td>SAS</td>\n",
       "      <td>1.542042</td>\n",
       "    </tr>\n",
       "    <tr>\n",
       "      <th>1</th>\n",
       "      <td>CHM13v2.0</td>\n",
       "      <td>AFR</td>\n",
       "      <td>1.496699</td>\n",
       "    </tr>\n",
       "    <tr>\n",
       "      <th>3</th>\n",
       "      <td>CHM13v2.0</td>\n",
       "      <td>AMR</td>\n",
       "      <td>1.000000</td>\n",
       "    </tr>\n",
       "    <tr>\n",
       "      <th>5</th>\n",
       "      <td>CHM13v2.0</td>\n",
       "      <td>EAS</td>\n",
       "      <td>2.538928</td>\n",
       "    </tr>\n",
       "    <tr>\n",
       "      <th>7</th>\n",
       "      <td>CHM13v2.0</td>\n",
       "      <td>EUR</td>\n",
       "      <td>2.204572</td>\n",
       "    </tr>\n",
       "    <tr>\n",
       "      <th>9</th>\n",
       "      <td>CHM13v2.0</td>\n",
       "      <td>SAS</td>\n",
       "      <td>1.712655</td>\n",
       "    </tr>\n",
       "  </tbody>\n",
       "</table>\n",
       "</div>"
      ],
      "text/plain": [
       "      genome superpopulation  switch_error_ratio\n",
       "0     GRCh38             AFR            1.606182\n",
       "2     GRCh38             AMR            1.000000\n",
       "4     GRCh38             EAS            1.934932\n",
       "6     GRCh38             EUR            1.790890\n",
       "8     GRCh38             SAS            1.542042\n",
       "1  CHM13v2.0             AFR            1.496699\n",
       "3  CHM13v2.0             AMR            1.000000\n",
       "5  CHM13v2.0             EAS            2.538928\n",
       "7  CHM13v2.0             EUR            2.204572\n",
       "9  CHM13v2.0             SAS            1.712655"
      ]
     },
     "execution_count": 22,
     "metadata": {},
     "output_type": "execute_result"
    },
    {
     "data": {
      "image/png": "[encoded data removed]",
      "text/plain": [
       "<Figure size 768x576 with 1 Axes>"
      ]
     },
     "metadata": {},
     "output_type": "display_data"
    }
   ],
   "source": [
    "calc_ancestries = all_ancestries.loc[(all_ancestries.method_of_phasing == 'phased_with_parents_and_pedigree') & \n",
    "                                     (all_ancestries.ground_truth_data_source.isin(('HPRC_samples','HGSVC_samples')))]\n",
    "\n",
    "calc_ancestries = calc_ancestries.groupby(['superpopulation','genome'], observed=True).sum(numeric_only=True)\n",
    "calc_ancestries['switch_error_rate'] = calc_ancestries.n_switch_errors/calc_ancestries.n_checked*100\n",
    "calc_ancestries['flip_error_rate'] = calc_ancestries.n_flips/calc_ancestries.n_checked*100\n",
    "calc_ancestries['true_switch_error_rate'] = calc_ancestries.n_true_switch_errors/calc_ancestries.n_checked*100\n",
    "calc_ancestries = calc_ancestries.reset_index()\n",
    "calc_ancestries.loc[calc_ancestries.genome=='GRCh38', 'switch_error_ratio'] = calc_ancestries.loc[calc_ancestries.genome=='GRCh38', 'switch_error_rate'] / calc_ancestries.loc[calc_ancestries.genome=='GRCh38', 'switch_error_rate'].min()\n",
    "calc_ancestries.loc[calc_ancestries.genome=='CHM13v2.0', 'switch_error_ratio'] = calc_ancestries.loc[calc_ancestries.genome=='CHM13v2.0', 'switch_error_rate'] / calc_ancestries.loc[calc_ancestries.genome=='CHM13v2.0', 'switch_error_rate'].min()\n",
    "ax = sns.barplot(data=calc_ancestries.reset_index(), x='superpopulation', hue='genome', y='switch_error_ratio')\n",
    "calc_ancestries.sort_values(['genome','superpopulation'])[['genome','superpopulation', 'switch_error_ratio']]"
   ]
  },
  {
   "cell_type": "code",
   "execution_count": null,
   "metadata": {},
   "outputs": [],
   "source": []
  }
 ],
 "metadata": {
  "kernelspec": {
   "display_name": "Python 3",
   "language": "python",
   "name": "python3"
  },
  "language_info": {
   "codemirror_mode": {
    "name": "ipython",
    "version": 3
   },
   "file_extension": ".py",
   "mimetype": "text/x-python",
   "name": "python",
   "nbconvert_exporter": "python",
   "pygments_lexer": "ipython3",
   "version": "3.11.6"
  }
 },
 "nbformat": 4,
 "nbformat_minor": 2
}
